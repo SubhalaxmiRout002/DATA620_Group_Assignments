{
 "cells": [
  {
   "cell_type": "markdown",
   "metadata": {},
   "source": [
    "### CUNY Data 620 - Web Analytics, Summer 2020\n",
    "**Group Project 1**  \n",
    "**Prof:** Alain Ledon  \n",
    "**Members:** Misha Kollontai, Amber Ferger, Zach Alexander, Subhalaxmi Rout  "
   ]
  },
  {
   "cell_type": "markdown",
   "metadata": {},
   "source": [
    "### Instructions\n",
    "1. Identify a large 2-node network dataset—you can start with a dataset in a repository.  Your data should meet the criteria that it consists of ties between and not within two (or more) distinct groups.\n",
    "2. Reduce the size of the network using a method such as the island method described in chapter 4 of social network analysis.\n",
    "3. What can you infer about each of the distinct groups?"
   ]
  },
  {
   "cell_type": "code",
   "execution_count": 1,
   "metadata": {},
   "outputs": [],
   "source": [
    "import networkx as nx\n",
    "import pandas as pd\n",
    "import matplotlib.pyplot as plt\n",
    "import scipy.stats as spy\n",
    "import numpy as np\n",
    "import statistics"
   ]
  },
  {
   "cell_type": "code",
   "execution_count": 2,
   "metadata": {},
   "outputs": [
    {
     "ename": "OSError",
     "evalue": "[Errno 22] Invalid argument: 'https://raw.githubusercontent.com/amberferger/DATA620_Group_Assignments/master/Project2/data/composers.txt'",
     "output_type": "error",
     "traceback": [
      "\u001b[1;31m---------------------------------------------------------------------------\u001b[0m",
      "\u001b[1;31mOSError\u001b[0m                                   Traceback (most recent call last)",
      "\u001b[1;32m<ipython-input-2-8d406bdd1594>\u001b[0m in \u001b[0;36m<module>\u001b[1;34m\u001b[0m\n\u001b[0;32m      2\u001b[0m \u001b[1;33m\u001b[0m\u001b[0m\n\u001b[0;32m      3\u001b[0m \u001b[0mcomposers\u001b[0m \u001b[1;33m=\u001b[0m \u001b[1;33m[\u001b[0m\u001b[1;33m]\u001b[0m\u001b[1;33m\u001b[0m\u001b[1;33m\u001b[0m\u001b[0m\n\u001b[1;32m----> 4\u001b[1;33m \u001b[0mcomposerfile\u001b[0m \u001b[1;33m=\u001b[0m \u001b[0mopen\u001b[0m\u001b[1;33m(\u001b[0m\u001b[0mcomposerFile\u001b[0m\u001b[1;33m,\u001b[0m \u001b[1;34m'r'\u001b[0m\u001b[1;33m)\u001b[0m\u001b[1;33m\u001b[0m\u001b[1;33m\u001b[0m\u001b[0m\n\u001b[0m\u001b[0;32m      5\u001b[0m \u001b[1;32mfor\u001b[0m \u001b[0mline\u001b[0m \u001b[1;32min\u001b[0m \u001b[0mcomposerfile\u001b[0m\u001b[1;33m.\u001b[0m\u001b[0mreadlines\u001b[0m\u001b[1;33m(\u001b[0m\u001b[1;33m)\u001b[0m\u001b[1;33m:\u001b[0m\u001b[1;33m\u001b[0m\u001b[1;33m\u001b[0m\u001b[0m\n\u001b[0;32m      6\u001b[0m     \u001b[1;32mfor\u001b[0m \u001b[0melement\u001b[0m \u001b[1;32min\u001b[0m \u001b[0mline\u001b[0m\u001b[1;33m[\u001b[0m\u001b[1;36m0\u001b[0m\u001b[1;33m:\u001b[0m\u001b[1;33m-\u001b[0m\u001b[1;36m1\u001b[0m\u001b[1;33m]\u001b[0m\u001b[1;33m.\u001b[0m\u001b[0msplit\u001b[0m\u001b[1;33m(\u001b[0m\u001b[1;34m'\\t'\u001b[0m\u001b[1;33m)\u001b[0m\u001b[1;33m:\u001b[0m\u001b[1;33m\u001b[0m\u001b[1;33m\u001b[0m\u001b[0m\n",
      "\u001b[1;31mOSError\u001b[0m: [Errno 22] Invalid argument: 'https://raw.githubusercontent.com/amberferger/DATA620_Group_Assignments/master/Project2/data/composers.txt'"
     ]
    }
   ],
   "source": [
    "composerFile = \"https://raw.githubusercontent.com/amberferger/DATA620_Group_Assignments/master/Project2/data/composers.txt\"\n",
    "\n",
    "composers = []\n",
    "composerfile = open(composerFile, 'r') \n",
    "for line in composerfile.readlines(): \n",
    "    for element in line[0:-1].split('\\t'):\n",
    "        composers.append(element)\n",
    "composers = [item for item in composers if composers not in ['\\n', '']]\n",
    "composers = [string for string in composers if string != \"\"]"
   ]
  },
  {
   "cell_type": "code",
   "execution_count": null,
   "metadata": {},
   "outputs": [],
   "source": [
    "producerFile = \"https://raw.githubusercontent.com/amberferger/DATA620_Group_Assignments/master/Project2/data/producers.txt\"\n",
    "\n",
    "producers = []\n",
    "producerfile = open(producerFile, 'r') \n",
    "for line in producerfile.readlines(): \n",
    "    for element in line[0:-1].split('\\t'):\n",
    "        producers.append(element)\n",
    "producers = [item for item in producers if producers not in ['\\n', ',']]\n",
    "producers = [string for string in producers if string != \"\"]"
   ]
  },
  {
   "cell_type": "code",
   "execution_count": null,
   "metadata": {},
   "outputs": [],
   "source": [
    "interaction_matrix = \"https://raw.githubusercontent.com/amberferger/DATA620_Group_Assignments/master/Project2/data/matrix.txt\"\n",
    "\n",
    "interaction_mat = []\n",
    "interactfile = open(interaction_matrix, 'r') \n",
    "for line in interactfile.readlines(): \n",
    "    for element in line[0:-1].split('\\n'):\n",
    "        interaction_mat.append(element)\n",
    "interaction_mat = [item for item in interaction_mat if interaction_mat not in ['\\n', '']]\n",
    "interaction_mat = [string for string in interaction_mat if string != \"\"]"
   ]
  },
  {
   "cell_type": "code",
   "execution_count": null,
   "metadata": {},
   "outputs": [],
   "source": [
    "producers = \"\\n\".join(producers)\n",
    "composers = \"\\n\".join(composers)\n",
    "interaction_mat = \"\\n\".join(interaction_mat)"
   ]
  },
  {
   "cell_type": "code",
   "execution_count": null,
   "metadata": {},
   "outputs": [],
   "source": [
    "print(interaction_mat)"
   ]
  },
  {
   "cell_type": "code",
   "execution_count": null,
   "metadata": {},
   "outputs": [],
   "source": [
    "def hollywood_graph(create_using=None, **kwds):\n",
    "    composers_num=40\n",
    "    producers_num=62\n",
    "    g=nx.generators.empty_graph(composers_num+producers_num,create_using=create_using,**kwds)\n",
    "    g.clear()\n",
    "    g.name=\"Hollywood Film Music\"\n",
    "    \n",
    "    # loading the women's names\n",
    "    producers_list=producers\n",
    "\n",
    "    # loading the club names\n",
    "    composers_list=composers\n",
    "\n",
    "    # loading the interaction matrix\n",
    "    interaction_matrix=interaction_mat\n",
    "    \n",
    "    # creating a list of women names\n",
    "    c={}\n",
    "    n=0\n",
    "    for name in composers_list.split('\\n'):\n",
    "        c[n]=name\n",
    "        n+=1\n",
    "\n",
    "    # creating a list of club names\n",
    "    p={}\n",
    "    n=0\n",
    "    for name in producers_list.split('\\n'):\n",
    "        p[n]=name\n",
    "        n+=1\n",
    "        \n",
    "    print(p)\n",
    "    print(c)\n",
    "\n",
    "    # parsing our interactions matrix, adding edges\n",
    "    row=0\n",
    "    for line in interaction_matrix.split('\\n'):\n",
    "        thisrow=list(map(int,line.split('\\t')))\n",
    "        for col in range(0,len(thisrow)):\n",
    "            if thisrow[col]==1:\n",
    "                g.add_edge(p[row],c[col])\n",
    "        row+=1\n",
    "    print(g)\n",
    "    return (g)"
   ]
  },
  {
   "cell_type": "code",
   "execution_count": null,
   "metadata": {},
   "outputs": [],
   "source": [
    "(g)=hollywood_graph()"
   ]
  },
  {
   "cell_type": "code",
   "execution_count": null,
   "metadata": {},
   "outputs": [],
   "source": [
    "print(nx.info(g))"
   ]
  },
  {
   "cell_type": "code",
   "execution_count": null,
   "metadata": {},
   "outputs": [],
   "source": [
    "g.nodes"
   ]
  },
  {
   "cell_type": "code",
   "execution_count": null,
   "metadata": {},
   "outputs": [],
   "source": [
    "nx.is_bipartite(g)"
   ]
  },
  {
   "cell_type": "code",
   "execution_count": null,
   "metadata": {},
   "outputs": [],
   "source": [
    "g.edges"
   ]
  },
  {
   "cell_type": "code",
   "execution_count": null,
   "metadata": {},
   "outputs": [],
   "source": [
    "print(g.edges[('Rosenberg, A.', 'Devol, F.')])"
   ]
  },
  {
   "cell_type": "code",
   "execution_count": null,
   "metadata": {},
   "outputs": [],
   "source": [
    "plt.rcParams['figure.figsize'] = [8, 8]\n",
    "nx.draw_spring(g, with_labels='true')"
   ]
  },
  {
   "cell_type": "code",
   "execution_count": null,
   "metadata": {},
   "outputs": [],
   "source": []
  }
 ],
 "metadata": {
  "kernelspec": {
   "display_name": "Python 3",
   "language": "python",
   "name": "python3"
  },
  "language_info": {
   "codemirror_mode": {
    "name": "ipython",
    "version": 3
   },
   "file_extension": ".py",
   "mimetype": "text/x-python",
   "name": "python",
   "nbconvert_exporter": "python",
   "pygments_lexer": "ipython3",
   "version": "3.7.6"
  }
 },
 "nbformat": 4,
 "nbformat_minor": 4
}
