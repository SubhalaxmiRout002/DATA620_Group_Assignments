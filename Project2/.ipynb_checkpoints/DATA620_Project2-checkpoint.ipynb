{
 "cells": [
  {
   "cell_type": "markdown",
   "metadata": {},
   "source": [
    "### CUNY Data 620 - Web Analytics, Summer 2020\n",
    "**Group Project 1**  \n",
    "**Prof:** Alain Ledon  \n",
    "**Members:** Misha Kollontai, Amber Ferger, Zach Alexander, Subhalaxmi Rout  "
   ]
  },
  {
   "cell_type": "markdown",
   "metadata": {},
   "source": [
    "### Instructions\n",
    "1. Identify a large 2-node network dataset—you can start with a dataset in a repository.  Your data should meet the criteria that it consists of ties between and not within two (or more) distinct groups.\n",
    "2. Reduce the size of the network using a method such as the island method described in chapter 4 of social network analysis.\n",
    "3. What can you infer about each of the distinct groups?"
   ]
  },
  {
   "cell_type": "code",
   "execution_count": 38,
   "metadata": {},
   "outputs": [],
   "source": [
    "import networkx as nx\n",
    "import pandas as pd\n",
    "import matplotlib.pyplot as plt\n",
    "import scipy.stats as spy\n",
    "import numpy as np\n",
    "import statistics"
   ]
  },
  {
   "cell_type": "code",
   "execution_count": 124,
   "metadata": {},
   "outputs": [],
   "source": [
    "composerFile = \"C:/Users/zalexander/Desktop/composers.txt\"\n",
    "\n",
    "composers = []\n",
    "composerfile = open(composerFile, 'r') \n",
    "for line in composerfile.readlines(): \n",
    "    for element in line[0:-1].split('\\t'):\n",
    "        composers.append(element)\n",
    "composers = [item for item in composers if composers not in ['\\n', '']]\n",
    "composers = [string for string in composers if string != \"\"]"
   ]
  },
  {
   "cell_type": "code",
   "execution_count": 129,
   "metadata": {},
   "outputs": [],
   "source": [
    "producerFile = \"C:/Users/zalexander/Desktop/producers.txt\"\n",
    "\n",
    "producers = []\n",
    "producerfile = open(producerFile, 'r') \n",
    "for line in producerfile.readlines(): \n",
    "    for element in line[0:-1].split('\\t'):\n",
    "        producers.append(element)\n",
    "producers = [item for item in producers if composers not in ['\\n', '']]\n",
    "producers = [string for string in producers if string != \"\"]"
   ]
  },
  {
   "cell_type": "code",
   "execution_count": null,
   "metadata": {},
   "outputs": [],
   "source": []
  },
  {
   "cell_type": "code",
   "execution_count": 130,
   "metadata": {},
   "outputs": [
    {
     "data": {
      "text/plain": [
       "'Rosenberg, A.\\nChartoff-Winkler Wise, R.\\nSchwartz, M.\\nArthur, R.\\nDehaven, C.\\nFryer-Cresson Montagne, E.\\nEdwards, B.\\nLewis, E.\\nHibler, W.\\nDavid, S.\\nJacobs, A.\\nPreminger, O.\\nSeltzer, W.\\nConrad, W.\\nDorfman, R.\\nTowers, I.\\nAnderson, B.\\nMiller, R.\\nWalsh, B.\\nTurman-Foster Radnitz, R.\\nLyles, A.C.\\nAldrich, R.\\nArkoff, S.\\nKatzman, S.\\nPressman, E.\\nCorman, R.\\nWallis, H.\\nJewison, N.\\nAllen, I.\\nMirisch, W.\\nWeintraub-Heller Frankovich, M.\\nKastner, E.\\nDelaurentis, D.\\nLang, J.\\nRelyea, R.\\nLevy-Gardner Daley, R.\\nRansohoff, M.\\nHoward, S.\\nWolper, D.\\nLawrence, D.\\nBeckerman, S.\\nCastle, W.\\nHunter, R.\\nRuddy, A.  \\nZanuck-Brown Pakula, A.\\nForeman, J.\\nKoch, H.\\nStark, R.\\nBrooks, R.\\nKramer, S.\\nJoffe, C.\\nLevine, J.E.\\nBriskin, M.\\nSolomon, J.\\nMeyer, R.\\nLanders, H.'"
      ]
     },
     "execution_count": 130,
     "metadata": {},
     "output_type": "execute_result"
    }
   ],
   "source": [
    "producers"
   ]
  },
  {
   "cell_type": "code",
   "execution_count": 128,
   "metadata": {},
   "outputs": [
    {
     "data": {
      "text/plain": [
       "'Rosenberg, A.\\nChartoff-Winkler Wise, R.\\nSchwartz, M.\\nArthur, R.\\nDehaven, C.\\nFryer-Cresson Montagne, E.\\nEdwards, B.\\nLewis, E.\\nHibler, W.\\nDavid, S.\\nJacobs, A.\\nPreminger, O.\\nSeltzer, W.\\nConrad, W.\\nDorfman, R.\\nTowers, I.\\nAnderson, B.\\nMiller, R.\\nWalsh, B.\\nTurman-Foster Radnitz, R.\\nLyles, A.C.\\nAldrich, R.\\nArkoff, S.\\nKatzman, S.\\nPressman, E.\\nCorman, R.\\nWallis, H.\\nJewison, N.\\nAllen, I.\\nMirisch, W.\\nWeintraub-Heller Frankovich, M.\\nKastner, E.\\nDelaurentis, D.\\nLang, J.\\nRelyea, R.\\nLevy-Gardner Daley, R.\\nRansohoff, M.\\nHoward, S.\\nWolper, D.\\nLawrence, D.\\nBeckerman, S.\\nCastle, W.\\nHunter, R.\\nRuddy, A.  \\nZanuck-Brown Pakula, A.\\nForeman, J.\\nKoch, H.\\nStark, R.\\nBrooks, R.\\nKramer, S.\\nJoffe, C.\\nLevine, J.E.\\nBriskin, M.\\nSolomon, J.\\nMeyer, R.\\nLanders, H.'"
      ]
     },
     "execution_count": 128,
     "metadata": {},
     "output_type": "execute_result"
    }
   ],
   "source": [
    "\"\\n\".join(producers.split('\\n'))"
   ]
  },
  {
   "cell_type": "code",
   "execution_count": null,
   "metadata": {},
   "outputs": [],
   "source": [
    "interaction_matrix = \"C:/Users/zalexander/Desktop/producers.txt\""
   ]
  },
  {
   "cell_type": "code",
   "execution_count": null,
   "metadata": {},
   "outputs": [],
   "source": [
    "def davis_club_graph(create_using=None, **kwds):\n",
    "    nwomen=14\n",
    "    nclubs=18\n",
    "    g=nx.generators.empty_graph(nwomen+nclubs,create_using=create_using,**kwds)\n",
    "    g.clear()\n",
    "    g.name=\"Davis Southern Club Women\"\n",
    "    \n",
    "    # loading the women's names\n",
    "    producers=producers\n",
    "\n",
    "    # loading the club names\n",
    "    composers=composers\n",
    "\n",
    "    # loading the interaction matrix\n",
    "    davisdat=\"\"\"\\\n",
    "1 1 1 1 1 1 0 1 1 0 0 0 0 0\n",
    "1 1 1 0 1 1 1 1 0 0 0 0 0 0\n",
    "0 1 1 1 1 1 1 1 1 0 0 0 0 0\n",
    "1 0 1 1 1 1 1 1 0 0 0 0 0 0\n",
    "0 0 1 1 1 0 1 0 0 0 0 0 0 0\n",
    "0 0 1 0 1 1 0 1 0 0 0 0 0 0\n",
    "0 0 0 0 1 1 1 1 0 0 0 0 0 0\n",
    "0 0 0 0 0 1 0 1 1 0 0 0 0 0\n",
    "0 0 0 0 1 0 1 1 1 0 0 0 0 0\n",
    "0 0 0 0 0 0 1 1 1 0 0 1 0 0\n",
    "0 0 0 0 0 0 0 1 1 1 0 1 0 0\n",
    "0 0 0 0 0 0 0 1 1 1 0 1 1 1\n",
    "0 0 0 0 0 0 1 1 1 1 0 1 1 1\n",
    "0 0 0 0 0 1 1 0 1 1 1 1 1 1\n",
    "0 0 0 0 0 0 1 1 0 1 1 1 1 1\n",
    "0 0 0 0 0 0 0 1 1 1 0 1 0 0\n",
    "0 0 0 0 0 0 0 0 1 0 1 0 0 0\n",
    "0 0 0 0 0 0 0 0 1 0 1 0 0 0\"\"\"\n",
    "\n",
    "\n",
    "    # creating a list of women names\n",
    "    w={}\n",
    "    n=0\n",
    "    for name in women.split('\\n'):\n",
    "        w[n]=name\n",
    "        n+=1\n",
    "\n",
    "    # creating a list of club names\n",
    "    c={}\n",
    "    n=0\n",
    "    for name in clubs.split('\\n'):\n",
    "        c[n]=name\n",
    "        n+=1\n",
    "\n",
    "    # parsing our interactions matrix, adding edges\n",
    "    row=0\n",
    "    for line in davisdat.split('\\n'):\n",
    "        thisrow=list(map(int,line.split(' ')))\n",
    "        for col in range(0,len(thisrow)):\n",
    "            if thisrow[col]==1:\n",
    "                g.add_edge(w[row],c[col])\n",
    "        row+=1\n",
    "    return (g,list(w.values()),list(c.values()))"
   ]
  },
  {
   "cell_type": "code",
   "execution_count": 43,
   "metadata": {},
   "outputs": [
    {
     "data": {
      "text/plain": [
       "True"
      ]
     },
     "execution_count": 43,
     "metadata": {},
     "output_type": "execute_result"
    }
   ],
   "source": [
    "nx.is_bipartite(G)"
   ]
  },
  {
   "cell_type": "code",
   "execution_count": 44,
   "metadata": {},
   "outputs": [
    {
     "data": {
      "text/plain": [
       "NodeView(('n0', 'n1', 'n2', 'n3', 'n4', 'n5', 'n6', 'n7', 'n8', 'n9', 'n10', 'n11', 'n12', 'n13', 'n14', 'n15', 'n16', 'n17', 'n18', 'n19', 'n20', 'n21', 'n22', 'n23', 'n24', 'n25', 'n26', 'n27', 'n28', 'n29', 'n30', 'n31', 'n32', 'n33', 'n34', 'n35', 'n36', 'n37', 'n38', 'n39', 'n40', 'n41', 'n42', 'n43', 'n44', 'n45', 'n46', 'n47', 'n48', 'n49', 'n50', 'n51', 'n52', 'n53', 'n54', 'n55', 'n56', 'n57', 'n58', 'n59', 'n60', 'n61', 'n62', 'n63', 'n64', 'n65', 'n66', 'n67', 'n68', 'n69', 'n70', 'n71', 'n72', 'n73', 'n74', 'n75', 'n76', 'n77', 'n78', 'n79', 'n80', 'n81', 'n82', 'n83', 'n84', 'n85', 'n86', 'n87', 'n88', 'n89', 'n90', 'n91', 'n92', 'n93', 'n94', 'n95', 'n96', 'n97', 'n98', 'n99', 'n100', 'n101'))"
      ]
     },
     "execution_count": 44,
     "metadata": {},
     "output_type": "execute_result"
    }
   ],
   "source": [
    "G.nodes"
   ]
  },
  {
   "cell_type": "code",
   "execution_count": 45,
   "metadata": {},
   "outputs": [
    {
     "data": {
      "text/plain": [
       "EdgeView([('n0', 'n62'), ('n0', 'n73'), ('n0', 'n86'), ('n1', 'n62'), ('n1', 'n79'), ('n1', 'n93'), ('n1', 'n94'), ('n1', 'n96'), ('n2', 'n62'), ('n2', 'n96'), ('n2', 'n97'), ('n3', 'n62'), ('n3', 'n78'), ('n3', 'n84'), ('n4', 'n62'), ('n4', 'n63'), ('n4', 'n90'), ('n5', 'n62'), ('n5', 'n94'), ('n5', 'n101'), ('n6', 'n62'), ('n6', 'n78'), ('n7', 'n62'), ('n7', 'n89'), ('n7', 'n90'), ('n7', 'n94'), ('n8', 'n62'), ('n8', 'n80'), ('n9', 'n62'), ('n9', 'n86'), ('n10', 'n62'), ('n10', 'n64'), ('n10', 'n66'), ('n10', 'n67'), ('n10', 'n81'), ('n11', 'n62'), ('n11', 'n63'), ('n12', 'n62'), ('n12', 'n63'), ('n12', 'n64'), ('n13', 'n62'), ('n13', 'n65'), ('n14', 'n62'), ('n14', 'n69'), ('n15', 'n63'), ('n16', 'n62'), ('n17', 'n66'), ('n18', 'n64'), ('n18', 'n65'), ('n18', 'n67'), ('n18', 'n68'), ('n19', 'n67'), ('n19', 'n68'), ('n20', 'n66'), ('n20', 'n67'), ('n21', 'n62'), ('n21', 'n79'), ('n21', 'n95'), ('n21', 'n96'), ('n21', 'n98'), ('n22', 'n63'), ('n22', 'n96'), ('n23', 'n75'), ('n24', 'n73'), ('n24', 'n74'), ('n25', 'n71'), ('n25', 'n72'), ('n26', 'n76'), ('n27', 'n89'), ('n27', 'n98'), ('n28', 'n71'), ('n28', 'n74'), ('n29', 'n62'), ('n29', 'n79'), ('n29', 'n81'), ('n29', 'n82'), ('n29', 'n86'), ('n29', 'n87'), ('n29', 'n89'), ('n30', 'n80'), ('n30', 'n91'), ('n30', 'n92'), ('n30', 'n100'), ('n31', 'n86'), ('n31', 'n91'), ('n32', 'n72'), ('n32', 'n80'), ('n32', 'n86'), ('n32', 'n91'), ('n32', 'n93'), ('n32', 'n94'), ('n32', 'n95'), ('n32', 'n96'), ('n33', 'n78'), ('n34', 'n86'), ('n34', 'n92'), ('n34', 'n93'), ('n35', 'n62'), ('n35', 'n78'), ('n35', 'n91'), ('n35', 'n92'), ('n35', 'n95'), ('n35', 'n97'), ('n36', 'n81'), ('n36', 'n82'), ('n36', 'n86'), ('n37', 'n78'), ('n37', 'n79'), ('n37', 'n91'), ('n38', 'n78'), ('n38', 'n86'), ('n38', 'n91'), ('n38', 'n92'), ('n39', 'n69'), ('n39', 'n72'), ('n39', 'n75'), ('n39', 'n86'), ('n40', 'n78'), ('n40', 'n92'), ('n40', 'n94'), ('n41', 'n76'), ('n41', 'n78'), ('n41', 'n80'), ('n41', 'n90'), ('n41', 'n92'), ('n41', 'n95'), ('n41', 'n99'), ('n42', 'n63'), ('n42', 'n78'), ('n42', 'n87'), ('n43', 'n74'), ('n43', 'n78'), ('n43', 'n80'), ('n43', 'n83'), ('n43', 'n84'), ('n43', 'n86'), ('n43', 'n92'), ('n44', 'n78'), ('n45', 'n78'), ('n45', 'n98'), ('n46', 'n84'), ('n46', 'n88'), ('n46', 'n90'), ('n47', 'n86'), ('n48', 'n88'), ('n49', 'n70'), ('n49', 'n80'), ('n49', 'n91'), ('n49', 'n99'), ('n50', 'n86'), ('n50', 'n96'), ('n50', 'n97'), ('n50', 'n98'), ('n50', 'n100'), ('n51', 'n78'), ('n51', 'n79'), ('n51', 'n80'), ('n51', 'n81'), ('n51', 'n82'), ('n51', 'n84'), ('n51', 'n98'), ('n52', 'n78'), ('n52', 'n80'), ('n52', 'n81'), ('n52', 'n85'), ('n52', 'n88'), ('n52', 'n89'), ('n52', 'n91'), ('n52', 'n94'), ('n53', 'n79'), ('n53', 'n83'), ('n53', 'n98'), ('n54', 'n81'), ('n54', 'n84'), ('n54', 'n92'), ('n54', 'n93'), ('n55', 'n73'), ('n55', 'n80'), ('n56', 'n79'), ('n56', 'n99'), ('n57', 'n70'), ('n57', 'n83'), ('n57', 'n89'), ('n57', 'n99'), ('n58', 'n83'), ('n58', 'n84'), ('n58', 'n90'), ('n59', 'n70'), ('n59', 'n101'), ('n60', 'n101'), ('n61', 'n82'), ('n61', 'n93')])"
      ]
     },
     "execution_count": 45,
     "metadata": {},
     "output_type": "execute_result"
    }
   ],
   "source": [
    "G.edges"
   ]
  },
  {
   "cell_type": "code",
   "execution_count": 48,
   "metadata": {},
   "outputs": [
    {
     "data": {
      "image/png": "[encoded data removed]",
      "text/plain": [
       "<Figure size 432x288 with 1 Axes>"
      ]
     },
     "metadata": {},
     "output_type": "display_data"
    }
   ],
   "source": [
    "nx.draw(G, with_labels='true')"
   ]
  },
  {
   "cell_type": "code",
   "execution_count": null,
   "metadata": {},
   "outputs": [],
   "source": []
  }
 ],
 "metadata": {
  "kernelspec": {
   "display_name": "Python 3",
   "language": "python",
   "name": "python3"
  },
  "language_info": {
   "codemirror_mode": {
    "name": "ipython",
    "version": 3
   },
   "file_extension": ".py",
   "mimetype": "text/x-python",
   "name": "python",
   "nbconvert_exporter": "python",
   "pygments_lexer": "ipython3",
   "version": "3.7.6"
  }
 },
 "nbformat": 4,
 "nbformat_minor": 4
}
