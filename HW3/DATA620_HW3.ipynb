{
 "cells": [
  {
   "cell_type": "code",
   "execution_count": 1,
   "metadata": {},
   "outputs": [],
   "source": [
    "import networkx as nx"
   ]
  },
  {
   "cell_type": "markdown",
   "metadata": {},
   "source": [
    "### Import Data\n",
    "We will work with an arbitrarily reduced subset of a much larger Facebook connections database from: [SNAP Facebook Dataset](https://snap.stanford.edu/data/ego-Facebook.html) in order to reduce processing time and complexity of the system."
   ]
  },
  {
   "cell_type": "code",
   "execution_count": 2,
   "metadata": {},
   "outputs": [],
   "source": [
    "g = nx.read_edgelist(\"data/facebook_short.txt\", nodetype = int)"
   ]
  },
  {
   "cell_type": "markdown",
   "metadata": {},
   "source": [
    "Let's look at some of the basic attributes of our graph, namely the node labels as well as number of nodes and edges. "
   ]
  },
  {
   "cell_type": "code",
   "execution_count": 3,
   "metadata": {},
   "outputs": [
    {
     "data": {
      "text/plain": [
       "NodeView((0, 1, 2, 3, 4, 5, 6, 7, 8, 9, 10, 11, 12, 13, 14, 15, 16, 17, 18, 19, 20, 21, 22, 23, 24, 25, 26, 27, 28, 29, 30, 31, 32, 33, 34, 35, 36, 37, 38, 39, 40, 41, 42, 43, 44, 45, 46, 47, 48, 49, 50, 51, 52, 53, 54, 55, 56, 57, 58, 59, 60, 61, 62, 63, 64, 65, 66, 67, 68, 69, 70, 71, 72, 73, 74, 75, 76, 77, 78, 79, 80, 81, 82, 83, 84, 85, 86, 87, 88, 89, 90, 91, 92, 93, 94, 95, 96, 97, 98, 99, 100, 101, 102, 103, 104, 105, 106, 107, 108, 109, 110, 111, 112, 113, 114, 115, 116, 117, 118, 119, 120, 121, 122, 123, 124, 125, 126, 127, 128, 129, 130, 131, 132, 133, 134, 135, 136, 137, 138, 139, 140, 141, 142, 143, 144, 145, 146, 147, 148, 149, 150, 151, 152, 153, 154, 155, 156, 157, 158, 159, 160, 161, 162, 163, 164, 165, 166, 167, 168, 169, 170, 171, 172, 173, 174, 175, 176, 177, 178, 179, 180, 181, 182, 183, 184, 185, 186, 187, 188, 189, 190, 191, 192, 193, 194, 195, 196, 197, 198, 199, 200, 201, 202, 203, 204, 205, 206, 207, 208, 209, 210, 211, 212, 213, 214, 215, 216, 217, 218, 219, 220, 221, 222, 223, 224, 225, 226, 227, 228, 229, 230, 231, 232, 233, 234, 235, 236, 237, 238, 239, 240, 241, 242, 243, 244, 245, 246, 247, 248, 249, 250, 251, 252, 253, 254, 255, 256, 257, 258, 259, 260, 261, 262, 263, 264, 265, 266, 267, 268, 269, 270, 271, 272, 273, 274, 275, 276, 277, 278, 279, 280, 281, 282, 283, 284, 285, 286, 287, 288, 289, 290, 291, 292, 293, 294, 295, 296, 297, 298, 299, 300, 301, 302, 303, 304, 305, 306, 307, 308, 309, 310, 311, 312, 313, 314, 315, 316, 317, 318, 319, 320, 321, 322, 323, 324, 325, 326, 327, 328, 329, 330, 331, 332, 333, 334, 335, 336, 337, 338, 339, 340, 341, 342, 343, 344, 345, 346, 347, 348, 414, 428, 1684, 1912, 2814, 2838, 2885, 3003, 3173, 3290, 353, 363, 366, 376, 389, 420, 475, 483, 484))"
      ]
     },
     "execution_count": 3,
     "metadata": {},
     "output_type": "execute_result"
    }
   ],
   "source": [
    "g.nodes"
   ]
  },
  {
   "cell_type": "code",
   "execution_count": 4,
   "metadata": {},
   "outputs": [
    {
     "data": {
      "text/plain": [
       "1655"
      ]
     },
     "execution_count": 4,
     "metadata": {},
     "output_type": "execute_result"
    }
   ],
   "source": [
    "g.number_of_edges()"
   ]
  },
  {
   "cell_type": "code",
   "execution_count": 5,
   "metadata": {},
   "outputs": [
    {
     "data": {
      "text/plain": [
       "368"
      ]
     },
     "execution_count": 5,
     "metadata": {},
     "output_type": "execute_result"
    }
   ],
   "source": [
    "g.number_of_nodes()"
   ]
  },
  {
   "cell_type": "markdown",
   "metadata": {},
   "source": [
    "### Metrics\n",
    "Here we will look at some slightly more complex metrcs associated with our graph.\n",
    "##### Eccentricity\n",
    "Eccentricity of a node is the maximum of the distances from that node to all of the other nodes in the graphs"
   ]
  },
  {
   "cell_type": "code",
   "execution_count": 6,
   "metadata": {},
   "outputs": [],
   "source": [
    "def calc_ecc(Graph,node):\n",
    "    ecc = 0\n",
    "    l = nx.single_source_shortest_path(Graph,node)\n",
    "    x = l.values()\n",
    "    for i in x:\n",
    "        if len(i)-1 > ecc:\n",
    "            ecc = len(i)-1\n",
    "    return(ecc)"
   ]
  },
  {
   "cell_type": "code",
   "execution_count": 7,
   "metadata": {},
   "outputs": [
    {
     "data": {
      "text/plain": [
       "2"
      ]
     },
     "execution_count": 7,
     "metadata": {},
     "output_type": "execute_result"
    }
   ],
   "source": [
    "calc_ecc(g,0)"
   ]
  },
  {
   "cell_type": "markdown",
   "metadata": {},
   "source": [
    "Let's confirm the accuracy of our function by testing it against the built-in eccentricity function for each node in our Graph:"
   ]
  },
  {
   "cell_type": "code",
   "execution_count": 8,
   "metadata": {},
   "outputs": [
    {
     "data": {
      "text/plain": [
       "True"
      ]
     },
     "execution_count": 8,
     "metadata": {},
     "output_type": "execute_result"
    }
   ],
   "source": [
    "ecc_valid = True\n",
    "for n in g.nodes:\n",
    "    if nx.eccentricity(g,n)!=calc_ecc(g,n):\n",
    "        ecc_valid = False\n",
    "ecc_valid"
   ]
  },
  {
   "cell_type": "markdown",
   "metadata": {},
   "source": [
    "##### Diameter\n",
    "The diameter of a graph is the maximum of all eccentricities within the graph"
   ]
  },
  {
   "cell_type": "code",
   "execution_count": 9,
   "metadata": {},
   "outputs": [],
   "source": [
    "def calc_diam(Graph):\n",
    "    diam = 0\n",
    "    for n in Graph.nodes:\n",
    "        if calc_ecc(Graph,n) > diam:\n",
    "            diam = calc_ecc(Graph,n)\n",
    "    return diam"
   ]
  },
  {
   "cell_type": "code",
   "execution_count": 10,
   "metadata": {},
   "outputs": [
    {
     "data": {
      "text/plain": [
       "3"
      ]
     },
     "execution_count": 10,
     "metadata": {},
     "output_type": "execute_result"
    }
   ],
   "source": [
    "calc_diam(g)"
   ]
  },
  {
   "cell_type": "markdown",
   "metadata": {},
   "source": [
    "To confirm our function, let's use the built-in diameter function:"
   ]
  },
  {
   "cell_type": "code",
   "execution_count": 11,
   "metadata": {},
   "outputs": [
    {
     "data": {
      "text/plain": [
       "3"
      ]
     },
     "execution_count": 11,
     "metadata": {},
     "output_type": "execute_result"
    }
   ],
   "source": [
    "nx.diameter(g)"
   ]
  },
  {
   "cell_type": "markdown",
   "metadata": {},
   "source": [
    "##### Periphery\n",
    "The periphery of a graph is the set of all nodes whose eccentricity is equal to the diameter"
   ]
  },
  {
   "cell_type": "code",
   "execution_count": 12,
   "metadata": {},
   "outputs": [],
   "source": [
    "def find_periph(Graph):\n",
    "    periph = []\n",
    "    d = calc_diam(Graph)\n",
    "    for n in Graph.nodes:\n",
    "        if calc_ecc(Graph,n) == d:\n",
    "            periph.append(n)\n",
    "    return periph"
   ]
  },
  {
   "cell_type": "code",
   "execution_count": 13,
   "metadata": {},
   "outputs": [],
   "source": [
    "periph_our = find_periph(g)"
   ]
  },
  {
   "cell_type": "markdown",
   "metadata": {},
   "source": [
    "Using modified list splitting technique from [How To Print a List More Nicely](https://stackoverflow.com/questions/1524126/how-to-print-a-list-more-nicely)"
   ]
  },
  {
   "cell_type": "code",
   "execution_count": 14,
   "metadata": {},
   "outputs": [],
   "source": [
    "def list_to_4col(l):\n",
    "    if len(l) % 2 != 0:\n",
    "        l.append(\" \")\n",
    "    if len(l) % 4 != 0:\n",
    "        l.extend([\" \",\" \"])\n",
    "    split = int(len(l)/4)\n",
    "    l1 = l[0:split]\n",
    "    l2 = l[split:(2*split)]\n",
    "    l3 = l[(2*split):(3*split)]\n",
    "    l4 = l[(3*split):]\n",
    "    \n",
    "    for i in range(0,split):\n",
    "        print(\"[\",l1[i],\"]\\t[\",l2[i],\"]\\t[\",l3[i],\"]\\t[\",l4[i],\"]\")"
   ]
  },
  {
   "cell_type": "markdown",
   "metadata": {},
   "source": [
    "Let us compare our list with that of the built-in function periphery"
   ]
  },
  {
   "cell_type": "code",
   "execution_count": 15,
   "metadata": {},
   "outputs": [
    {
     "name": "stdout",
     "output_type": "stream",
     "text": [
      "91\n",
      "[ 1 ]\t[ 93 ]\t[ 186 ]\t[ 277 ]\n",
      "[ 2 ]\t[ 94 ]\t[ 187 ]\t[ 278 ]\n",
      "[ 3 ]\t[ 95 ]\t[ 188 ]\t[ 279 ]\n",
      "[ 4 ]\t[ 96 ]\t[ 189 ]\t[ 280 ]\n",
      "[ 5 ]\t[ 97 ]\t[ 190 ]\t[ 281 ]\n",
      "[ 6 ]\t[ 98 ]\t[ 191 ]\t[ 282 ]\n",
      "[ 7 ]\t[ 99 ]\t[ 192 ]\t[ 283 ]\n",
      "[ 8 ]\t[ 100 ]\t[ 193 ]\t[ 284 ]\n",
      "[ 9 ]\t[ 101 ]\t[ 194 ]\t[ 285 ]\n",
      "[ 10 ]\t[ 102 ]\t[ 195 ]\t[ 286 ]\n",
      "[ 11 ]\t[ 103 ]\t[ 196 ]\t[ 287 ]\n",
      "[ 12 ]\t[ 104 ]\t[ 197 ]\t[ 288 ]\n",
      "[ 13 ]\t[ 105 ]\t[ 198 ]\t[ 289 ]\n",
      "[ 14 ]\t[ 106 ]\t[ 199 ]\t[ 290 ]\n",
      "[ 15 ]\t[ 108 ]\t[ 200 ]\t[ 291 ]\n",
      "[ 16 ]\t[ 109 ]\t[ 201 ]\t[ 292 ]\n",
      "[ 17 ]\t[ 110 ]\t[ 202 ]\t[ 293 ]\n",
      "[ 18 ]\t[ 111 ]\t[ 203 ]\t[ 294 ]\n",
      "[ 19 ]\t[ 112 ]\t[ 204 ]\t[ 295 ]\n",
      "[ 20 ]\t[ 113 ]\t[ 205 ]\t[ 296 ]\n",
      "[ 21 ]\t[ 114 ]\t[ 206 ]\t[ 297 ]\n",
      "[ 22 ]\t[ 115 ]\t[ 207 ]\t[ 298 ]\n",
      "[ 23 ]\t[ 116 ]\t[ 208 ]\t[ 299 ]\n",
      "[ 24 ]\t[ 117 ]\t[ 209 ]\t[ 300 ]\n",
      "[ 25 ]\t[ 118 ]\t[ 210 ]\t[ 301 ]\n",
      "[ 26 ]\t[ 119 ]\t[ 211 ]\t[ 302 ]\n",
      "[ 27 ]\t[ 120 ]\t[ 212 ]\t[ 303 ]\n",
      "[ 28 ]\t[ 121 ]\t[ 213 ]\t[ 304 ]\n",
      "[ 29 ]\t[ 122 ]\t[ 214 ]\t[ 305 ]\n",
      "[ 30 ]\t[ 123 ]\t[ 215 ]\t[ 306 ]\n",
      "[ 31 ]\t[ 124 ]\t[ 216 ]\t[ 307 ]\n",
      "[ 32 ]\t[ 125 ]\t[ 217 ]\t[ 308 ]\n",
      "[ 33 ]\t[ 126 ]\t[ 218 ]\t[ 309 ]\n",
      "[ 34 ]\t[ 127 ]\t[ 219 ]\t[ 310 ]\n",
      "[ 35 ]\t[ 128 ]\t[ 220 ]\t[ 311 ]\n",
      "[ 36 ]\t[ 129 ]\t[ 221 ]\t[ 312 ]\n",
      "[ 37 ]\t[ 130 ]\t[ 222 ]\t[ 313 ]\n",
      "[ 38 ]\t[ 131 ]\t[ 223 ]\t[ 314 ]\n",
      "[ 39 ]\t[ 132 ]\t[ 224 ]\t[ 315 ]\n",
      "[ 40 ]\t[ 133 ]\t[ 225 ]\t[ 316 ]\n",
      "[ 41 ]\t[ 134 ]\t[ 226 ]\t[ 317 ]\n",
      "[ 42 ]\t[ 135 ]\t[ 227 ]\t[ 318 ]\n",
      "[ 43 ]\t[ 136 ]\t[ 228 ]\t[ 319 ]\n",
      "[ 44 ]\t[ 137 ]\t[ 229 ]\t[ 320 ]\n",
      "[ 45 ]\t[ 138 ]\t[ 230 ]\t[ 321 ]\n",
      "[ 46 ]\t[ 139 ]\t[ 231 ]\t[ 322 ]\n",
      "[ 47 ]\t[ 140 ]\t[ 232 ]\t[ 323 ]\n",
      "[ 48 ]\t[ 141 ]\t[ 233 ]\t[ 324 ]\n",
      "[ 49 ]\t[ 142 ]\t[ 234 ]\t[ 325 ]\n",
      "[ 50 ]\t[ 143 ]\t[ 235 ]\t[ 326 ]\n",
      "[ 51 ]\t[ 144 ]\t[ 236 ]\t[ 327 ]\n",
      "[ 52 ]\t[ 145 ]\t[ 237 ]\t[ 328 ]\n",
      "[ 53 ]\t[ 146 ]\t[ 238 ]\t[ 329 ]\n",
      "[ 54 ]\t[ 147 ]\t[ 239 ]\t[ 330 ]\n",
      "[ 55 ]\t[ 148 ]\t[ 240 ]\t[ 331 ]\n",
      "[ 56 ]\t[ 149 ]\t[ 241 ]\t[ 332 ]\n",
      "[ 57 ]\t[ 150 ]\t[ 242 ]\t[ 333 ]\n",
      "[ 59 ]\t[ 151 ]\t[ 243 ]\t[ 334 ]\n",
      "[ 60 ]\t[ 152 ]\t[ 244 ]\t[ 335 ]\n",
      "[ 61 ]\t[ 153 ]\t[ 245 ]\t[ 336 ]\n",
      "[ 62 ]\t[ 154 ]\t[ 246 ]\t[ 337 ]\n",
      "[ 63 ]\t[ 155 ]\t[ 247 ]\t[ 338 ]\n",
      "[ 64 ]\t[ 156 ]\t[ 248 ]\t[ 339 ]\n",
      "[ 65 ]\t[ 157 ]\t[ 249 ]\t[ 340 ]\n",
      "[ 66 ]\t[ 158 ]\t[ 250 ]\t[ 341 ]\n",
      "[ 67 ]\t[ 159 ]\t[ 251 ]\t[ 342 ]\n",
      "[ 68 ]\t[ 160 ]\t[ 252 ]\t[ 343 ]\n",
      "[ 69 ]\t[ 161 ]\t[ 253 ]\t[ 344 ]\n",
      "[ 70 ]\t[ 162 ]\t[ 254 ]\t[ 345 ]\n",
      "[ 71 ]\t[ 163 ]\t[ 255 ]\t[ 346 ]\n",
      "[ 72 ]\t[ 164 ]\t[ 256 ]\t[ 347 ]\n",
      "[ 73 ]\t[ 165 ]\t[ 257 ]\t[ 348 ]\n",
      "[ 74 ]\t[ 166 ]\t[ 258 ]\t[ 414 ]\n",
      "[ 75 ]\t[ 167 ]\t[ 259 ]\t[ 428 ]\n",
      "[ 76 ]\t[ 168 ]\t[ 260 ]\t[ 1684 ]\n",
      "[ 77 ]\t[ 169 ]\t[ 261 ]\t[ 1912 ]\n",
      "[ 78 ]\t[ 170 ]\t[ 262 ]\t[ 2814 ]\n",
      "[ 79 ]\t[ 172 ]\t[ 263 ]\t[ 2838 ]\n",
      "[ 80 ]\t[ 173 ]\t[ 264 ]\t[ 2885 ]\n",
      "[ 81 ]\t[ 174 ]\t[ 265 ]\t[ 3003 ]\n",
      "[ 82 ]\t[ 175 ]\t[ 266 ]\t[ 3173 ]\n",
      "[ 83 ]\t[ 176 ]\t[ 267 ]\t[ 3290 ]\n",
      "[ 84 ]\t[ 177 ]\t[ 268 ]\t[ 353 ]\n",
      "[ 85 ]\t[ 178 ]\t[ 269 ]\t[ 363 ]\n",
      "[ 86 ]\t[ 179 ]\t[ 270 ]\t[ 366 ]\n",
      "[ 87 ]\t[ 180 ]\t[ 271 ]\t[ 376 ]\n",
      "[ 88 ]\t[ 181 ]\t[ 272 ]\t[ 389 ]\n",
      "[ 89 ]\t[ 182 ]\t[ 273 ]\t[ 420 ]\n",
      "[ 90 ]\t[ 183 ]\t[ 274 ]\t[ 475 ]\n",
      "[ 91 ]\t[ 184 ]\t[ 275 ]\t[ 483 ]\n",
      "[ 92 ]\t[ 185 ]\t[ 276 ]\t[ 484 ]\n"
     ]
    }
   ],
   "source": [
    "list_to_4col(periph_our)"
   ]
  },
  {
   "cell_type": "code",
   "execution_count": 16,
   "metadata": {},
   "outputs": [
    {
     "data": {
      "text/plain": [
       "True"
      ]
     },
     "execution_count": 16,
     "metadata": {},
     "output_type": "execute_result"
    }
   ],
   "source": [
    "periph_bltin = list(nx.periphery(g))\n",
    "periph_our == periph_bltin"
   ]
  },
  {
   "cell_type": "markdown",
   "metadata": {},
   "source": [
    "Finally, let us export the graph to a Gephi-compatable format so that we can visualize our results."
   ]
  },
  {
   "cell_type": "code",
   "execution_count": 17,
   "metadata": {},
   "outputs": [],
   "source": [
    "nx.write_gexf(g,\"DATA620_HW3.gexf\")"
   ]
  }
 ],
 "metadata": {
  "kernelspec": {
   "display_name": "Python 3",
   "language": "python",
   "name": "python3"
  },
  "language_info": {
   "codemirror_mode": {
    "name": "ipython",
    "version": 3
   },
   "file_extension": ".py",
   "mimetype": "text/x-python",
   "name": "python",
   "nbconvert_exporter": "python",
   "pygments_lexer": "ipython3",
   "version": "3.7.4"
  }
 },
 "nbformat": 4,
 "nbformat_minor": 2
}
