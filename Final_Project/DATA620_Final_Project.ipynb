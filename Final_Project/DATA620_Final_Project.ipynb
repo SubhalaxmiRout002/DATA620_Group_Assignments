{
 "cells": [
  {
   "cell_type": "markdown",
   "metadata": {},
   "source": [
    "### CUNY Data 620 - Web Analytics, Summer 2020  \n",
    "**Final Project**   \n",
    "**Prof:** Alain Ledon  \n",
    "**Members:** Misha Kollontai, Amber Ferger, Zach Alexander, Subhalaxmi Rout "
   ]
  },
  {
   "cell_type": "markdown",
   "metadata": {},
   "source": [
    "### Instructions\n",
    "Using any of the three classifiers described in chapter 6 of Natural Language Processing with Python,\n",
    "and any features you can think of, build the best name gender classifier you can. \n",
    "\n",
    "Begin by splitting the Names Corpus into three subsets: 500 words for the test set, 500 words for the devtest set, and the remaining 6900 words for the training set. Then, starting with the example name gender classifier, make incremental improvements. Use the dev-test set to check your progress. Once you are satisfied with your classifier, check its final performance on the test set.\n",
    "\n",
    "\n",
    "How does the performance on the test set compare to the performance on the dev-test set? Is this what\n",
    "you'd expect? "
   ]
  },
  {
   "cell_type": "markdown",
   "metadata": {},
   "source": [
    "### Research Questions\n",
    "\n",
    "* Is there a relationship between location-specific Covid-19 sentiment and the number of positive cases within that region? \n",
    "* Does positive sentiment preceed spikes in positive cases?"
   ]
  },
  {
   "cell_type": "markdown",
   "metadata": {},
   "source": [
    "### The Data\n",
    "\n",
    "We will be using the Twitter API to scrape Tweet data, [John's Hopkins COVID-19 Data](https://github.com/CSSEGISandData/COVID-19) and [Wikipedia](https://en.wikipedia.org/wiki/COVID-19_pandemic_in_the_United_States) for the COVID-19 numbers. "
   ]
  },
  {
   "cell_type": "markdown",
   "metadata": {},
   "source": [
    "### The Plan\n",
    "\n",
    "1. Scrape Twitter data from 2 locations - perhaps NYC (severe initial wave) and New Orleans (experiencing something of a second wave)\n",
    "2. Pull coronavirus case numbers for the 2 locations in question\n",
    "3. Perform sentiment analyis on the tweets collected and aggregate them into an overall sentiment index for each day\n",
    "4. Plot timeseries of the sentiment index -vs- Coronavirus case numbers\n",
    "5. Indicate important moments on the timeline related to Covid-19 safety measures or announcements\n",
    "6. Investigate potential relationships between the two sets and compare the relationships from one city to another"
   ]
  },
  {
   "cell_type": "code",
   "execution_count": 1,
   "metadata": {},
   "outputs": [],
   "source": [
    "import pandas as pd\n",
    "import numpy as np\n",
    "import matplotlib.pyplot as plt\n",
    "import matplotlib.dates as mdates\n",
    "import warnings\n",
    "warnings.filterwarnings('ignore')"
   ]
  },
  {
   "cell_type": "markdown",
   "metadata": {},
   "source": [
    "### Step 1: Scraping Twitter Data from New York City & New Orleans\n",
    "\n",
    "As a first step, we decided to scrape tweets from two locations, New York City and New Orleans."
   ]
  },
  {
   "cell_type": "markdown",
   "metadata": {},
   "source": [
    "##### Reading in the tweets from NYC"
   ]
  },
  {
   "cell_type": "code",
   "execution_count": 2,
   "metadata": {},
   "outputs": [],
   "source": [
    "tweets = pd.read_csv('covid_tweets.csv', delimiter='\\t')\n",
    "tweets['City'] = 'NYC'"
   ]
  },
  {
   "cell_type": "code",
   "execution_count": 3,
   "metadata": {},
   "outputs": [
    {
     "data": {
      "text/html": [
       "<div>\n",
       "<style scoped>\n",
       "    .dataframe tbody tr th:only-of-type {\n",
       "        vertical-align: middle;\n",
       "    }\n",
       "\n",
       "    .dataframe tbody tr th {\n",
       "        vertical-align: top;\n",
       "    }\n",
       "\n",
       "    .dataframe thead th {\n",
       "        text-align: right;\n",
       "    }\n",
       "</style>\n",
       "<table border=\"1\" class=\"dataframe\">\n",
       "  <thead>\n",
       "    <tr style=\"text-align: right;\">\n",
       "      <th></th>\n",
       "      <th>Date</th>\n",
       "      <th>Tweet</th>\n",
       "      <th>City</th>\n",
       "    </tr>\n",
       "  </thead>\n",
       "  <tbody>\n",
       "    <tr>\n",
       "      <th>0</th>\n",
       "      <td>2020-07-11 21:09:22+00:00</td>\n",
       "      <td>Dear #Trump'sters: #Covid19's spiraling out of...</td>\n",
       "      <td>NYC</td>\n",
       "    </tr>\n",
       "    <tr>\n",
       "      <th>1</th>\n",
       "      <td>2020-07-11 21:05:06+00:00</td>\n",
       "      <td>As we all work together to overcome the #COVID...</td>\n",
       "      <td>NYC</td>\n",
       "    </tr>\n",
       "    <tr>\n",
       "      <th>2</th>\n",
       "      <td>2020-07-11 20:09:00+00:00</td>\n",
       "      <td>Likely rare that a mother can pass #COVID19 to...</td>\n",
       "      <td>NYC</td>\n",
       "    </tr>\n",
       "    <tr>\n",
       "      <th>3</th>\n",
       "      <td>2020-07-11 19:56:59+00:00</td>\n",
       "      <td>Sure, blame the scientists, docs, public healt...</td>\n",
       "      <td>NYC</td>\n",
       "    </tr>\n",
       "    <tr>\n",
       "      <th>4</th>\n",
       "      <td>2020-07-11 19:17:41+00:00</td>\n",
       "      <td>#COVID19 New school clothes for Georgia's chil...</td>\n",
       "      <td>NYC</td>\n",
       "    </tr>\n",
       "  </tbody>\n",
       "</table>\n",
       "</div>"
      ],
      "text/plain": [
       "                        Date  \\\n",
       "0  2020-07-11 21:09:22+00:00   \n",
       "1  2020-07-11 21:05:06+00:00   \n",
       "2  2020-07-11 20:09:00+00:00   \n",
       "3  2020-07-11 19:56:59+00:00   \n",
       "4  2020-07-11 19:17:41+00:00   \n",
       "\n",
       "                                               Tweet City  \n",
       "0  Dear #Trump'sters: #Covid19's spiraling out of...  NYC  \n",
       "1  As we all work together to overcome the #COVID...  NYC  \n",
       "2  Likely rare that a mother can pass #COVID19 to...  NYC  \n",
       "3  Sure, blame the scientists, docs, public healt...  NYC  \n",
       "4  #COVID19 New school clothes for Georgia's chil...  NYC  "
      ]
     },
     "execution_count": 3,
     "metadata": {},
     "output_type": "execute_result"
    }
   ],
   "source": [
    "tweets.head()"
   ]
  },
  {
   "cell_type": "code",
   "execution_count": 4,
   "metadata": {},
   "outputs": [
    {
     "data": {
      "text/plain": [
       "(6797, 3)"
      ]
     },
     "execution_count": 4,
     "metadata": {},
     "output_type": "execute_result"
    }
   ],
   "source": [
    "tweets.shape"
   ]
  },
  {
   "cell_type": "markdown",
   "metadata": {},
   "source": [
    "### Step 2: Pulling coronavirus case numbers for both locations"
   ]
  },
  {
   "cell_type": "code",
   "execution_count": 5,
   "metadata": {},
   "outputs": [],
   "source": [
    "covid_cases = pd.read_csv('confirmed_cases.csv')"
   ]
  },
  {
   "cell_type": "markdown",
   "metadata": {},
   "source": [
    "##### Filtering for NYC cases"
   ]
  },
  {
   "cell_type": "markdown",
   "metadata": {},
   "source": [
    "After locating the correct county FIPS number for New York City, we were able to filter the pandas dataframe to only include this row. Additionally, we transposed this row to ensure we had one column designated for the date and another for the number of confirmed cases for that corresponding date. Finally, we made sure to reset the index and adjust the date type in order to be able to show our visuals:"
   ]
  },
  {
   "cell_type": "code",
   "execution_count": 6,
   "metadata": {},
   "outputs": [],
   "source": [
    "cases_filtered = covid_cases[covid_cases['FIPS'] == 36061]\n",
    "df = cases_filtered.iloc[:, 11:186:1]\n",
    "\n",
    "df = df.transpose().reset_index()\n",
    "df = df.rename(columns={'index': 'Date', 1863: \"Confirmed_Cases\"})\n",
    "\n",
    "nyc_time_series = pd.DataFrame(df, columns = ['Date','Confirmed_Cases'])\n",
    "nyc_time_series['Date'] = pd.to_datetime(nyc_time_series['Date'], format='%m/%d/%y')"
   ]
  },
  {
   "cell_type": "markdown",
   "metadata": {},
   "source": [
    "Here's a quick look at the filtered dataset with just NYC cases:"
   ]
  },
  {
   "cell_type": "code",
   "execution_count": 7,
   "metadata": {},
   "outputs": [
    {
     "data": {
      "text/html": [
       "<div>\n",
       "<style scoped>\n",
       "    .dataframe tbody tr th:only-of-type {\n",
       "        vertical-align: middle;\n",
       "    }\n",
       "\n",
       "    .dataframe tbody tr th {\n",
       "        vertical-align: top;\n",
       "    }\n",
       "\n",
       "    .dataframe thead th {\n",
       "        text-align: right;\n",
       "    }\n",
       "</style>\n",
       "<table border=\"1\" class=\"dataframe\">\n",
       "  <thead>\n",
       "    <tr style=\"text-align: right;\">\n",
       "      <th></th>\n",
       "      <th>Date</th>\n",
       "      <th>Confirmed_Cases</th>\n",
       "    </tr>\n",
       "  </thead>\n",
       "  <tbody>\n",
       "    <tr>\n",
       "      <th>170</th>\n",
       "      <td>2020-07-10</td>\n",
       "      <td>218403</td>\n",
       "    </tr>\n",
       "    <tr>\n",
       "      <th>171</th>\n",
       "      <td>2020-07-11</td>\n",
       "      <td>218710</td>\n",
       "    </tr>\n",
       "    <tr>\n",
       "      <th>172</th>\n",
       "      <td>2020-07-12</td>\n",
       "      <td>219051</td>\n",
       "    </tr>\n",
       "    <tr>\n",
       "      <th>173</th>\n",
       "      <td>2020-07-13</td>\n",
       "      <td>219301</td>\n",
       "    </tr>\n",
       "    <tr>\n",
       "      <th>174</th>\n",
       "      <td>2020-07-14</td>\n",
       "      <td>219616</td>\n",
       "    </tr>\n",
       "  </tbody>\n",
       "</table>\n",
       "</div>"
      ],
      "text/plain": [
       "          Date  Confirmed_Cases\n",
       "170 2020-07-10           218403\n",
       "171 2020-07-11           218710\n",
       "172 2020-07-12           219051\n",
       "173 2020-07-13           219301\n",
       "174 2020-07-14           219616"
      ]
     },
     "execution_count": 7,
     "metadata": {},
     "output_type": "execute_result"
    }
   ],
   "source": [
    "nyc_time_series.tail()"
   ]
  },
  {
   "cell_type": "markdown",
   "metadata": {},
   "source": [
    "Now, in order to find the number of new cases per day, we can utilize our confirmed cases column to take the difference between the current day and the previous day. Additionally, for our visualization, we can take the 7-day average of new cases and plot this as well, in order to obtain a better view of trends over time."
   ]
  },
  {
   "cell_type": "code",
   "execution_count": 8,
   "metadata": {},
   "outputs": [],
   "source": [
    "def add_newcases(df):\n",
    "    df['New_Cases'] = 'NA'\n",
    "    for i in range(0, len(df['Confirmed_Cases'])):\n",
    "        if i == 0:\n",
    "            df['New_Cases'][i] = 0\n",
    "        else:\n",
    "            df['New_Cases'][i] = df['Confirmed_Cases'][i] - df['Confirmed_Cases'][i-1]\n",
    "    return df"
   ]
  },
  {
   "cell_type": "code",
   "execution_count": 9,
   "metadata": {},
   "outputs": [],
   "source": [
    "def add_sevenday(df):\n",
    "    df['Seven_Day_Avg'] = 'NA'\n",
    "    for i in range(0, len(df['Confirmed_Cases'])):\n",
    "        if i < 8:\n",
    "            df['Seven_Day_Avg'][i] = 0\n",
    "        else:\n",
    "            weekly = []\n",
    "            for y in range(0,7):\n",
    "                weekly.append(df['New_Cases'][i-y])\n",
    "            df['Seven_Day_Avg'][i] = sum(weekly) / 7\n",
    "    return df"
   ]
  },
  {
   "cell_type": "code",
   "execution_count": 10,
   "metadata": {},
   "outputs": [],
   "source": [
    "df = add_newcases(nyc_time_series)\n",
    "df = add_sevenday(df)"
   ]
  },
  {
   "cell_type": "markdown",
   "metadata": {},
   "source": [
    "After creating the `New Cases` and `Seven Day Average` columns, we can create a plot to show the case counts in New York City:"
   ]
  },
  {
   "cell_type": "code",
   "execution_count": 11,
   "metadata": {},
   "outputs": [],
   "source": [
    "def drawNewCases(df, title, fignum, var):\n",
    "    var = plt.figure(fignum)\n",
    "    plt.rcParams['figure.figsize'] = [20, 6]\n",
    "    plt.bar(df['Date'], df['New_Cases'], color='indianred', alpha=0.4)\n",
    "    plt.plot(df['Date'], df['Seven_Day_Avg'], c='indianred', linewidth=2)\n",
    "    plt.plot(legend=None)\n",
    "    plt.title(title)\n",
    "    plt.ylabel('Number of New Cases')\n",
    "    plt.gca().xaxis.set_major_formatter(fmt)\n",
    "    var.show()"
   ]
  },
  {
   "cell_type": "code",
   "execution_count": 12,
   "metadata": {},
   "outputs": [
    {
     "data": {
      "image/png": "[encoded data removed]",
      "text/plain": [
       "<Figure size 432x288 with 1 Axes>"
      ]
     },
     "metadata": {
      "needs_background": "light"
     },
     "output_type": "display_data"
    }
   ],
   "source": [
    "locator = mdates.MonthLocator()\n",
    "fmt = mdates.DateFormatter('%B')\n",
    "\n",
    "nyc_time_series = pd.DataFrame(df, columns = ['Date','Confirmed_Cases', 'New_Cases', 'Seven_Day_Avg'])\n",
    "nyc_time_series['Date'] = pd.to_datetime(nyc_time_series['Date'], format='%m/%d/%y')\n",
    "\n",
    "drawNewCases(nyc_time_series, 'Number of new COVID-19 cases in New York City (Daily)', 1, 'x')"
   ]
  },
  {
   "cell_type": "markdown",
   "metadata": {},
   "source": [
    "##### Filtering for New Orleans Cases"
   ]
  },
  {
   "cell_type": "code",
   "execution_count": 13,
   "metadata": {},
   "outputs": [],
   "source": [
    "cases_filtered_newo = covid_cases[covid_cases['FIPS'] == 22071]\n",
    "\n",
    "\n",
    "df_newo = cases_filtered_newo.iloc[:, 11:186:1]\n",
    "\n",
    "df_newo = df_newo.transpose().reset_index()\n",
    "df_newo = df_newo.rename(columns={'index': 'Date', 1153: \"Confirmed_Cases\"})\n",
    "\n",
    "newo_time_series = pd.DataFrame(df_newo, columns = ['Date','Confirmed_Cases'])\n",
    "newo_time_series['Date'] = pd.to_datetime(newo_time_series['Date'], format='%m/%d/%y')"
   ]
  },
  {
   "cell_type": "code",
   "execution_count": 14,
   "metadata": {},
   "outputs": [
    {
     "data": {
      "text/html": [
       "<div>\n",
       "<style scoped>\n",
       "    .dataframe tbody tr th:only-of-type {\n",
       "        vertical-align: middle;\n",
       "    }\n",
       "\n",
       "    .dataframe tbody tr th {\n",
       "        vertical-align: top;\n",
       "    }\n",
       "\n",
       "    .dataframe thead th {\n",
       "        text-align: right;\n",
       "    }\n",
       "</style>\n",
       "<table border=\"1\" class=\"dataframe\">\n",
       "  <thead>\n",
       "    <tr style=\"text-align: right;\">\n",
       "      <th></th>\n",
       "      <th>Date</th>\n",
       "      <th>Confirmed_Cases</th>\n",
       "    </tr>\n",
       "  </thead>\n",
       "  <tbody>\n",
       "    <tr>\n",
       "      <th>170</th>\n",
       "      <td>2020-07-10</td>\n",
       "      <td>8476</td>\n",
       "    </tr>\n",
       "    <tr>\n",
       "      <th>171</th>\n",
       "      <td>2020-07-11</td>\n",
       "      <td>8598</td>\n",
       "    </tr>\n",
       "    <tr>\n",
       "      <th>172</th>\n",
       "      <td>2020-07-12</td>\n",
       "      <td>8665</td>\n",
       "    </tr>\n",
       "    <tr>\n",
       "      <th>173</th>\n",
       "      <td>2020-07-13</td>\n",
       "      <td>8745</td>\n",
       "    </tr>\n",
       "    <tr>\n",
       "      <th>174</th>\n",
       "      <td>2020-07-14</td>\n",
       "      <td>8846</td>\n",
       "    </tr>\n",
       "  </tbody>\n",
       "</table>\n",
       "</div>"
      ],
      "text/plain": [
       "          Date  Confirmed_Cases\n",
       "170 2020-07-10             8476\n",
       "171 2020-07-11             8598\n",
       "172 2020-07-12             8665\n",
       "173 2020-07-13             8745\n",
       "174 2020-07-14             8846"
      ]
     },
     "execution_count": 14,
     "metadata": {},
     "output_type": "execute_result"
    }
   ],
   "source": [
    "newo_time_series.tail()"
   ]
  },
  {
   "cell_type": "code",
   "execution_count": 15,
   "metadata": {},
   "outputs": [],
   "source": [
    "df_newo = add_newcases(newo_time_series)\n",
    "df_newo = add_sevenday(df_newo)"
   ]
  },
  {
   "cell_type": "code",
   "execution_count": 16,
   "metadata": {},
   "outputs": [],
   "source": [
    "newo_time_series = pd.DataFrame(df_newo, columns = ['Date','Confirmed_Cases', 'New_Cases', 'Seven_Day_Avg'])\n",
    "newo_time_series['Date'] = pd.to_datetime(newo_time_series['Date'], format='%m/%d/%y')"
   ]
  },
  {
   "cell_type": "code",
   "execution_count": 17,
   "metadata": {},
   "outputs": [
    {
     "data": {
      "image/png": "[encoded data removed]",
      "text/plain": [
       "<Figure size 1440x432 with 1 Axes>"
      ]
     },
     "metadata": {
      "needs_background": "light"
     },
     "output_type": "display_data"
    }
   ],
   "source": [
    "drawNewCases(newo_time_series, 'Number of new COVID-19 cases in New Orleans (Daily)', 2, 'y')"
   ]
  },
  {
   "cell_type": "markdown",
   "metadata": {},
   "source": [
    "**Note from Zach**: Will remove this commented-out code later (see below), but thought I'd leave it just in case it'll be helpful for future visualizations:"
   ]
  },
  {
   "cell_type": "code",
   "execution_count": 18,
   "metadata": {},
   "outputs": [],
   "source": [
    "# locator = mdates.MonthLocator()\n",
    "# fmt = mdates.DateFormatter('%B')\n",
    "\n",
    "\n",
    "# plt.plot(nyc_time_series['Date'], nyc_time_series['Confirmed_Cases'], c='indianred')\n",
    "# plt.plot(legend=None)\n",
    "# plt.title('Number of Confirmed COVID-19 Cases in New York City')\n",
    "# plt.xlabel('Date')\n",
    "# plt.ylabel('Number of Confirmed Cases')\n",
    "# plt.gca().xaxis.set_major_formatter(fmt)\n",
    "# plt.show()"
   ]
  }
 ],
 "metadata": {
  "kernelspec": {
   "display_name": "Python 3",
   "language": "python",
   "name": "python3"
  },
  "language_info": {
   "codemirror_mode": {
    "name": "ipython",
    "version": 3
   },
   "file_extension": ".py",
   "mimetype": "text/x-python",
   "name": "python",
   "nbconvert_exporter": "python",
   "pygments_lexer": "ipython3",
   "version": "3.7.6"
  }
 },
 "nbformat": 4,
 "nbformat_minor": 4
}
