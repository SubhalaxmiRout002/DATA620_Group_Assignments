{
 "cells": [
  {
   "cell_type": "markdown",
   "metadata": {},
   "source": [
    "### CUNY Data 620 - Web Analytics, Summer 2020  \n",
    "**Final Project**   \n",
    "**Prof:** Alain Ledon  \n",
    "**Members:** Misha Kollontai, Amber Ferger, Zach Alexander, Subhalaxmi Rout \n",
    "\n",
    "**Youtube Link:** "
   ]
  },
  {
   "cell_type": "markdown",
   "metadata": {},
   "source": [
    "### Instructions\n",
    "Your project should incorporate one or both of the two main themes of this course: network analysis and text processing. You need to show all of your work in a coherent workflow, and in a reproducible format, such as an IPython Notebook or an R Markdown document. If you are building a model or models, explain how you evaluate the “goodness” of the chosen model and parameters. "
   ]
  },
  {
   "cell_type": "markdown",
   "metadata": {},
   "source": [
    "### Research Purpose\n",
    "\n",
    "For this project, we will be pulling twitter data related to the Coronavirus pandemic in the United States. Our primary objective will be to identify the relationship between city and overall sentiment towards covid. We will look at the average daily tweet sentiment for **NYC** (severe initial wave) and **New Orleans** (experiencing something of a second wave) to see if there are regional differences. From this, we would like to answer the following questions:\n",
    "\n",
    "* Is there a relationship between location-specific Covid-19 sentiment and the number of positive cases within that region?\n",
    "* Does positive sentiment preceed spikes in positive cases?\n",
    "\n",
    "As a secondary objective, we would like to identify relationships between major US cities by looking at shared tweet hashtags. We aim to create a network from these relationships where nodes represent cities and edges represent shared use of hashtags. In doing this, we would like to answer the following questions:\n",
    "\n",
    "* What issues (additional hashtags) are discussed in conjunction with Covid-19?\n",
    "* What differences in hashtag use is there across the country?\n",
    "* Are there certain cities that care about similar issues (additional hashtags)?\n",
    "\n",
    "As a stretch goal, we would also like to answer the question: Is there a relationship between location-specific Covid-19 hashtags and the number of positive cases within that region? "
   ]
  },
  {
   "cell_type": "markdown",
   "metadata": {},
   "source": [
    "### The Data\n",
    "\n",
    "#### Relevant Cities\n",
    "First, we generated a list of geocodes that related to the most populous city in each US state (plus DC). This data was pulled from the [1000 Largest US Cities By Population With Geographic Coordinates](https://public.opendatasoft.com/explore/dataset/1000-largest-us-cities-by-population-with-geographic-coordinates/table/?sort=-rank). \n",
    "\n",
    "\n",
    "#### Covid-Tweets\n",
    "Our initial plan was to use the Twitter API to pull in relevant tweets, but we later realized that the API only allows users to pull back 5 days worth of data. Because of this, we turned to the [*GetOldTweets3*](https://pypi.org/project/GetOldTweets3/) package, which allowed us to return tweets with the following specifications:\n",
    "\n",
    "* **Date Range**: 3/8/2020 - 7/15/2020, pulled in biweekly groupings by city.\n",
    "* The tweet itself contains the word **Covid** or it is included in one of the hashtags.\n",
    "* The limit on the total number of tweets per API call is 1000 per date increment. Some of our cities had the full 1000 tweets while others contained less. \n",
    "\n",
    "Our final output includes: tweet text, additional hashtags, tweet date, twitter username, and city coordinates. \n",
    "\n",
    "Please see the **tweetPull** notebook for more information about the the extraction of relevant tweets. \n",
    "\n",
    "\n",
    "#### Covid Case Numbers\n",
    "\n",
    "We used [John's Hopkins COVID-19 Data](https://github.com/CSSEGISandData/COVID-19) and [Wikipedia](https://en.wikipedia.org/wiki/COVID-19_pandemic_in_the_United_States) for the COVID-19 numbers. "
   ]
  },
  {
   "cell_type": "markdown",
   "metadata": {},
   "source": [
    "### Libraries"
   ]
  },
  {
   "cell_type": "code",
   "execution_count": 1,
   "metadata": {},
   "outputs": [],
   "source": [
    "import pandas as pd\n",
    "import numpy as np\n",
    "from itertools import combinations\n",
    "from vaderSentiment.vaderSentiment import SentimentIntensityAnalyzer\n",
    "import matplotlib.pyplot as plt\n",
    "import matplotlib.dates as mdates\n",
    "#from mpl_toolkits.basemap import Basemap\n",
    "import networkx as nx\n",
    "import warnings\n",
    "warnings.filterwarnings('ignore')"
   ]
  },
  {
   "cell_type": "markdown",
   "metadata": {},
   "source": [
    "### Data\n",
    "First, we'll pull in our twitter and our covid cases data. Since our first set of research questions are focused only on New York and New Orleans, we will create separate dataframes for this information. \n",
    "\n",
    "#### Twitter Data\n",
    "We can see that each state has 1000 tweets within the timeframe."
   ]
  },
  {
   "cell_type": "code",
   "execution_count": 2,
   "metadata": {},
   "outputs": [
    {
     "name": "stdout",
     "output_type": "stream",
     "text": [
      "Number of NY tweets:  (1800, 11)\n",
      "Number of New Orleans tweets:  (1756, 11)\n"
     ]
    },
    {
     "data": {
      "text/plain": [
       "'2020-07-10 23:59:47+00:00'"
      ]
     },
     "execution_count": 2,
     "metadata": {},
     "output_type": "execute_result"
    }
   ],
   "source": [
    "# read in and replace nulls\n",
    "tweets = pd.read_csv('csv_combined.csv', delimiter=',')\n",
    "tweets = tweets.replace(np.nan, '', regex=True)\n",
    "\n",
    "nyTweets = tweets[tweets[\"City\"] == \"New York\"]\n",
    "noTweets = tweets[tweets[\"City\"] == \"New Orleans\"]\n",
    "\n",
    "print('Number of NY tweets: ', nyTweets.shape)\n",
    "print('Number of New Orleans tweets: ',noTweets.shape)\n",
    "nyTweets['TWEET_DATE'].min()\n",
    "nyTweets['TWEET_DATE'].max()"
   ]
  },
  {
   "cell_type": "code",
   "execution_count": 3,
   "metadata": {},
   "outputs": [
    {
     "name": "stdout",
     "output_type": "stream",
     "text": [
      "Number of Anchorage tweets:  (682, 11)\n"
     ]
    }
   ],
   "source": [
    "AnchTweets = tweets[tweets[\"City\"] == \"Anchorage\"]\n",
    "print('Number of Anchorage tweets: ', AnchTweets.shape)"
   ]
  },
  {
   "cell_type": "markdown",
   "metadata": {},
   "source": [
    "##### Covid Case Data\n",
    "\n",
    "We'll filter by FIPS code, transpose the data to create the proper format, reset the index, and adjust the datetype. \n",
    "\n",
    "We can take a quick look at the last 5 dates for NYC dataset:"
   ]
  },
  {
   "cell_type": "code",
   "execution_count": 4,
   "metadata": {},
   "outputs": [
    {
     "data": {
      "text/html": [
       "<div>\n",
       "<style scoped>\n",
       "    .dataframe tbody tr th:only-of-type {\n",
       "        vertical-align: middle;\n",
       "    }\n",
       "\n",
       "    .dataframe tbody tr th {\n",
       "        vertical-align: top;\n",
       "    }\n",
       "\n",
       "    .dataframe thead th {\n",
       "        text-align: right;\n",
       "    }\n",
       "</style>\n",
       "<table border=\"1\" class=\"dataframe\">\n",
       "  <thead>\n",
       "    <tr style=\"text-align: right;\">\n",
       "      <th></th>\n",
       "      <th>Date</th>\n",
       "      <th>Confirmed_Cases</th>\n",
       "    </tr>\n",
       "  </thead>\n",
       "  <tbody>\n",
       "    <tr>\n",
       "      <th>170</th>\n",
       "      <td>2020-07-10</td>\n",
       "      <td>218403</td>\n",
       "    </tr>\n",
       "    <tr>\n",
       "      <th>171</th>\n",
       "      <td>2020-07-11</td>\n",
       "      <td>218710</td>\n",
       "    </tr>\n",
       "    <tr>\n",
       "      <th>172</th>\n",
       "      <td>2020-07-12</td>\n",
       "      <td>219051</td>\n",
       "    </tr>\n",
       "    <tr>\n",
       "      <th>173</th>\n",
       "      <td>2020-07-13</td>\n",
       "      <td>219301</td>\n",
       "    </tr>\n",
       "    <tr>\n",
       "      <th>174</th>\n",
       "      <td>2020-07-14</td>\n",
       "      <td>219616</td>\n",
       "    </tr>\n",
       "  </tbody>\n",
       "</table>\n",
       "</div>"
      ],
      "text/plain": [
       "          Date  Confirmed_Cases\n",
       "170 2020-07-10           218403\n",
       "171 2020-07-11           218710\n",
       "172 2020-07-12           219051\n",
       "173 2020-07-13           219301\n",
       "174 2020-07-14           219616"
      ]
     },
     "execution_count": 4,
     "metadata": {},
     "output_type": "execute_result"
    }
   ],
   "source": [
    "# load in covid case data\n",
    "covid_cases = pd.read_csv('confirmed_cases.csv')\n",
    "\n",
    "########## NYC cases\n",
    "cases_filtered = covid_cases[covid_cases['FIPS'] == 36061]\n",
    "df = cases_filtered.iloc[:, 11:186:1]\n",
    "\n",
    "df = df.transpose().reset_index()\n",
    "df = df.rename(columns={'index': 'Date', 1863: \"Confirmed_Cases\"})\n",
    "\n",
    "nyc_time_series = pd.DataFrame(df, columns = ['Date','Confirmed_Cases'])\n",
    "nyc_time_series['Date'] = pd.to_datetime(nyc_time_series['Date'], format='%m/%d/%y')\n",
    "\n",
    "nyc_time_series.tail()"
   ]
  },
  {
   "cell_type": "markdown",
   "metadata": {},
   "source": [
    "And also for New Orleans:"
   ]
  },
  {
   "cell_type": "code",
   "execution_count": 5,
   "metadata": {},
   "outputs": [
    {
     "data": {
      "text/html": [
       "<div>\n",
       "<style scoped>\n",
       "    .dataframe tbody tr th:only-of-type {\n",
       "        vertical-align: middle;\n",
       "    }\n",
       "\n",
       "    .dataframe tbody tr th {\n",
       "        vertical-align: top;\n",
       "    }\n",
       "\n",
       "    .dataframe thead th {\n",
       "        text-align: right;\n",
       "    }\n",
       "</style>\n",
       "<table border=\"1\" class=\"dataframe\">\n",
       "  <thead>\n",
       "    <tr style=\"text-align: right;\">\n",
       "      <th></th>\n",
       "      <th>Date</th>\n",
       "      <th>Confirmed_Cases</th>\n",
       "    </tr>\n",
       "  </thead>\n",
       "  <tbody>\n",
       "    <tr>\n",
       "      <th>170</th>\n",
       "      <td>2020-07-10</td>\n",
       "      <td>8476</td>\n",
       "    </tr>\n",
       "    <tr>\n",
       "      <th>171</th>\n",
       "      <td>2020-07-11</td>\n",
       "      <td>8598</td>\n",
       "    </tr>\n",
       "    <tr>\n",
       "      <th>172</th>\n",
       "      <td>2020-07-12</td>\n",
       "      <td>8665</td>\n",
       "    </tr>\n",
       "    <tr>\n",
       "      <th>173</th>\n",
       "      <td>2020-07-13</td>\n",
       "      <td>8745</td>\n",
       "    </tr>\n",
       "    <tr>\n",
       "      <th>174</th>\n",
       "      <td>2020-07-14</td>\n",
       "      <td>8846</td>\n",
       "    </tr>\n",
       "  </tbody>\n",
       "</table>\n",
       "</div>"
      ],
      "text/plain": [
       "          Date  Confirmed_Cases\n",
       "170 2020-07-10             8476\n",
       "171 2020-07-11             8598\n",
       "172 2020-07-12             8665\n",
       "173 2020-07-13             8745\n",
       "174 2020-07-14             8846"
      ]
     },
     "execution_count": 5,
     "metadata": {},
     "output_type": "execute_result"
    }
   ],
   "source": [
    "########## New Orleans cases\n",
    "cases_filtered_newo = covid_cases[covid_cases['FIPS'] == 22071]\n",
    "df_newo = cases_filtered_newo.iloc[:, 11:186:1]\n",
    "\n",
    "df_newo = df_newo.transpose().reset_index()\n",
    "df_newo = df_newo.rename(columns={'index': 'Date', 1153: \"Confirmed_Cases\"})\n",
    "\n",
    "newo_time_series = pd.DataFrame(df_newo, columns = ['Date','Confirmed_Cases'])\n",
    "newo_time_series['Date'] = pd.to_datetime(newo_time_series['Date'], format='%m/%d/%y')\n",
    "\n",
    "newo_time_series.tail()"
   ]
  },
  {
   "cell_type": "markdown",
   "metadata": {},
   "source": [
    "Next, we'll define some custom functions to visualize the data. \n",
    "\n",
    "In order to find the number of new cases per day, we can utilize our confirmed cases column to take the difference between the current day and the previous day. Additionally, for our visualization, we can take the 7-day average of new cases and plot this as well, in order to obtain a better view of trends over time. We can also create a function to plot the case counts. "
   ]
  },
  {
   "cell_type": "code",
   "execution_count": 6,
   "metadata": {},
   "outputs": [],
   "source": [
    "############### New cases per day\n",
    "def add_newcases(df):\n",
    "    df['New_Cases'] = 'NA'\n",
    "    for i in range(0, len(df['Confirmed_Cases'])):\n",
    "        if i == 0:\n",
    "            df['New_Cases'][i] = 0\n",
    "        else:\n",
    "            df['New_Cases'][i] = df['Confirmed_Cases'][i] - df['Confirmed_Cases'][i-1]\n",
    "    return df\n",
    "\n",
    "############### Seven day averages\n",
    "def add_sevenday(df):\n",
    "    df['Seven_Day_Avg'] = 'NA'\n",
    "    for i in range(0, len(df['Confirmed_Cases'])):\n",
    "        if i < 8:\n",
    "            df['Seven_Day_Avg'][i] = 0\n",
    "        else:\n",
    "            weekly = []\n",
    "            for y in range(0,7):\n",
    "                weekly.append(df['New_Cases'][i-y])\n",
    "            df['Seven_Day_Avg'][i] = sum(weekly) / 7\n",
    "    return df\n",
    "\n",
    "############### Plot case counts \n",
    "def drawNewCases(df, title, fignum, var):\n",
    "    var = plt.figure(fignum, figsize=(16,8))\n",
    "    plt.bar(df['Date'], df['New_Cases'], color='indianred', alpha=0.4)\n",
    "    plt.plot(df['Date'], df['Seven_Day_Avg'], c='indianred', linewidth=2)\n",
    "    plt.plot(legend=None)\n",
    "    plt.title(title)\n",
    "    plt.ylabel('Number of New Cases')\n",
    "    plt.gca().xaxis.set_major_formatter(fmt)\n",
    "    var.show()"
   ]
  },
  {
   "cell_type": "markdown",
   "metadata": {},
   "source": [
    "We can now plot the daily cases by city: "
   ]
  },
  {
   "cell_type": "code",
   "execution_count": 7,
   "metadata": {},
   "outputs": [
    {
     "data": {
      "image/png": "[encoded data removed]",
      "text/plain": [
       "<Figure size 1152x576 with 1 Axes>"
      ]
     },
     "metadata": {
      "needs_background": "light"
     },
     "output_type": "display_data"
    }
   ],
   "source": [
    "# calculate new cases per day and seven day averages\n",
    "df = add_newcases(nyc_time_series)\n",
    "df = add_sevenday(df)\n",
    "\n",
    "# plot counts\n",
    "locator = mdates.MonthLocator()\n",
    "fmt = mdates.DateFormatter('%B')\n",
    "\n",
    "nyc_time_series = pd.DataFrame(df, columns = ['Date','Confirmed_Cases', 'New_Cases', 'Seven_Day_Avg'])\n",
    "nyc_time_series['Date'] = pd.to_datetime(nyc_time_series['Date'], format='%m/%d/%y')\n",
    "\n",
    "drawNewCases(nyc_time_series, 'Number of new COVID-19 cases in New York City (Daily)', 1, 'x')"
   ]
  },
  {
   "cell_type": "code",
   "execution_count": 8,
   "metadata": {},
   "outputs": [
    {
     "name": "stdout",
     "output_type": "stream",
     "text": [
      "        Date  Confirmed_Cases New_Cases Seven_Day_Avg\n",
      "0 2020-01-22                0         0             0\n",
      "1 2020-01-23                0         0             0\n",
      "2 2020-01-24                0         0             0\n",
      "3 2020-01-25                0         0             0\n",
      "4 2020-01-26                0         0             0\n"
     ]
    },
    {
     "data": {
      "image/png": "[encoded data removed]",
      "text/plain": [
       "<Figure size 1152x576 with 1 Axes>"
      ]
     },
     "metadata": {
      "needs_background": "light"
     },
     "output_type": "display_data"
    }
   ],
   "source": [
    "df_newo = add_newcases(newo_time_series)\n",
    "df_newo = add_sevenday(df_newo)\n",
    "\n",
    "newo_time_series = pd.DataFrame(df_newo, columns = ['Date','Confirmed_Cases', 'New_Cases', 'Seven_Day_Avg'])\n",
    "newo_time_series['Date'] = pd.to_datetime(newo_time_series['Date'], format='%m/%d/%y')\n",
    "print(newo_time_series.head())\n",
    "\n",
    "drawNewCases(newo_time_series, 'Number of new COVID-19 cases in New Orleans (Daily)', 2, 'y')"
   ]
  },
  {
   "cell_type": "markdown",
   "metadata": {},
   "source": [
    "### Sentiment Analysis\n",
    "\n",
    "In order to capture the sentiment of our tweets, we'll use the *vaderSentiment* package. We will define a customized function that returns the negative, positive, neutral, and compound scores of the given tweet. We'll also define a function that will format the final output of the sentiment analysis."
   ]
  },
  {
   "cell_type": "code",
   "execution_count": 9,
   "metadata": {},
   "outputs": [],
   "source": [
    "# instantiate sentiment analyzer, define function for sentiment output\n",
    "analyser = SentimentIntensityAnalyzer()\n",
    "\n",
    "############### sentiment analysis\n",
    "def sentiment_analyzer_scores(sentence):\n",
    "    score = analyser.polarity_scores(sentence)\n",
    "    neg = score['neg']\n",
    "    pos = score['pos']\n",
    "    neu = score['neu']\n",
    "    compound= score['compound']\n",
    "    \n",
    "    return [neg,pos,neu,compound, sentence]\n",
    "\n",
    "############### splitting hashtag groupings\n",
    "def splitTags(x,y):\n",
    "    return [(x,z) for z in y]\n",
    "\n",
    "############### analysis formatting\n",
    "def formatSentiment(ls, df):\n",
    "    sents = [sentiment_analyzer_scores(s) for s in ls]\n",
    "    sentDf = pd.DataFrame(sents, columns = ['NEGATIVE_SCORE', 'POSITIVE_SCORE', 'NEUTRAL_SCORE', 'COMPOUND', 'SENTENCE'])\n",
    "    final = df.join(sentDf)\n",
    "    return final.iloc[:,1:-1]"
   ]
  },
  {
   "cell_type": "markdown",
   "metadata": {},
   "source": [
    "We can then apply this function to our twitter dataframe and separate by city. "
   ]
  },
  {
   "cell_type": "code",
   "execution_count": 12,
   "metadata": {},
   "outputs": [],
   "source": [
    "text = tweets['TEXT'].tolist()\n",
    "finalSentiment = formatSentiment(text, tweets)\n",
    "\n",
    "noTweets = finalSentiment[finalSentiment[\"City\"] == \"New Orleans\"]\n",
    "nyTweets = finalSentiment[finalSentiment[\"City\"] == \"New York\"]"
   ]
  },
  {
   "cell_type": "code",
   "execution_count": 19,
   "metadata": {},
   "outputs": [],
   "source": [
    "def plot_Tweet_Sent(df, title):\n",
    "    df['TWEET_DATE'] =pd.to_datetime(df['TWEET_DATE'])\n",
    "    df['TWEET_DATE'] = df['TWEET_DATE'].dt.strftime('%m/%d/%Y')\n",
    "    dfSent = df[['TWEET_DATE','COMPOUND']]\n",
    "\n",
    "    dfSent = dfSent.groupby('TWEET_DATE')['COMPOUND'].mean().reset_index()\n",
    "\n",
    "\n",
    "    plt.plot(dfSent['TWEET_DATE'], dfSent['COMPOUND'], c='indianred', linewidth=2)\n",
    "    plt.ylim(-0.5,0.5)\n",
    "    plt.title(title)\n",
    "    plt.show()"
   ]
  },
  {
   "cell_type": "code",
   "execution_count": 20,
   "metadata": {},
   "outputs": [
    {
     "data": {
      "image/png": "[encoded data removed]",
      "text/plain": [
       "<Figure size 432x288 with 1 Axes>"
      ]
     },
     "metadata": {
      "needs_background": "light"
     },
     "output_type": "display_data"
    }
   ],
   "source": [
    "plot_Tweet_Sent(noTweets, 'New Orleans Sentiment')"
   ]
  },
  {
   "cell_type": "code",
   "execution_count": 21,
   "metadata": {},
   "outputs": [
    {
     "data": {
      "image/png": "[encoded data removed]",
      "text/plain": [
       "<Figure size 432x288 with 1 Axes>"
      ]
     },
     "metadata": {
      "needs_background": "light"
     },
     "output_type": "display_data"
    }
   ],
   "source": [
    "plot_Tweet_Sent(nyTweets, 'New York Sentiment')"
   ]
  },
  {
   "cell_type": "markdown",
   "metadata": {},
   "source": [
    "### Creating a Network\n",
    "* **Nodes**: Cities, **TO DO: color: sentiment, size: portion of population affected by covid**\n",
    "* **Edges**: Shared Hashtags, **TO DO: edge weights: number of shared hashtags**\n",
    "\n",
    "#### Hashtags by Coordinate\n",
    "First, we'll define 2 functions that will help to format our hashtag data. The first will be used to split the hashtag column into separate entities and the second will be used to create a final edge list for our network."
   ]
  },
  {
   "cell_type": "code",
   "execution_count": null,
   "metadata": {},
   "outputs": [],
   "source": [
    "############### splitting hashtag groupings\n",
    "def splitTags(x,y):\n",
    "    return [(x,z) for z in y]\n",
    "\n",
    "############### create edge list\n",
    "def createEdges(ls):    \n",
    "    productList = []\n",
    "    \n",
    "    for i in ls:\n",
    "        if len(i) >1:\n",
    "            productList.append(list(combinations(i,2)))\n",
    "    \n",
    "    return [val for sublist in productList for val in sublist]"
   ]
  },
  {
   "cell_type": "code",
   "execution_count": null,
   "metadata": {},
   "outputs": [],
   "source": [
    "# hashtags & coordinates for each record\n",
    "hashtags = tweets['HASHTAGS'].tolist()\n",
    "coords = tweets['COORDS'].tolist()\n",
    "sepHash = [i.split() for i in hashtags]\n",
    "sepHash[1:5]"
   ]
  },
  {
   "cell_type": "code",
   "execution_count": null,
   "metadata": {},
   "outputs": [],
   "source": [
    "# set of all coordinates with individual hashtag\n",
    "coordTag = [splitTags(i,j) for i,j in list(zip(coords,sepHash)) if len(j)> 0]\n",
    "flattened = [val for sublist in coordTag for val in sublist]\n",
    "finalHash = set(flattened)\n",
    "\n",
    "# create a dictionary of each hashtag with the city coordinates\n",
    "tempDict = {}\n",
    "for i,j in finalHash:\n",
    "    if j not in tempDict:\n",
    "        tempDict[j]= [i]\n",
    "    else:\n",
    "        tempDict[j].append(i)\n",
    "        \n",
    "# remove covid hashtags from dictionary\n",
    "tagsToRemove = ['#covid_19', '#COVID19', '#COVID2019', '#COVID_19', '#COVID__19', '#COVID', '#CoronavirusUSA', '#CV19',\n",
    "                '#COVD19', '#Covid_19', '#CORONAVIRUS', '#Coronavirus', '#CoronavirusCOVID', '#Corona', '#Coronovirus',\n",
    "               '#CoronavirusOubreak', '#CoronavirusPandemic', '#CoronavirusOutbreak', '#CoronavirusPandemic', '#coronavirus', \n",
    "                '#Covid19', '#covid', '#Covid', '#covid19', '#pandemic', '#corona']\n",
    "\n",
    "for k in tagsToRemove:\n",
    "    tempDict.pop(k, None)\n",
    "\n",
    "print('Example output from the hashtag #hoax:')\n",
    "tempDict['#hoax']"
   ]
  },
  {
   "cell_type": "code",
   "execution_count": null,
   "metadata": {},
   "outputs": [],
   "source": [
    "len(tempDict['#VoteBlueToSaveAmerica2020'])\n",
    "#sorted(tempDict['#BlackLivesMatter'])\n",
    "\n",
    "#list(set(tempDict['#VoteBlueToSaveAmerica2020']) & set(tempDict['#BlackLivesMatter']))\n",
    "\n",
    "\n",
    "print('business: ' , len(tempDict['#business']))\n",
    "print('stay home: ' , len(tempDict['#stayhome']))\n",
    "print('both: ', len(set(tempDict['#business']) & set(tempDict['#stayhome'])))"
   ]
  },
  {
   "cell_type": "markdown",
   "metadata": {},
   "source": [
    "#### Top Hashtags \n",
    "Let's take a look at the hashtags used in the highest number of cities. #WearAMask and #COVIDIOTS in particular stand out. "
   ]
  },
  {
   "cell_type": "code",
   "execution_count": null,
   "metadata": {},
   "outputs": [],
   "source": [
    "# top hashtags\n",
    "hsh = []\n",
    "ties = []\n",
    "for key, value in tempDict.items():\n",
    "    hsh.append(key)\n",
    "    ties.append(len(value))\n",
    "Hash_Ties = pd.DataFrame()\n",
    "Hash_Ties['Hashtag'] = hsh\n",
    "Hash_Ties['Cities'] = ties\n",
    "Hash_Ties = Hash_Ties.sort_values(by=['Cities'],ascending = False)\n",
    "Hash_Ties.head(10)"
   ]
  },
  {
   "cell_type": "code",
   "execution_count": null,
   "metadata": {},
   "outputs": [],
   "source": [
    "#### Final Edges\n",
    "# combining all elements in the dictionary values into separate node connections\n",
    "coordPairs = list(tempDict.values())\n",
    "finalPairs = createEdges(coordPairs)\n",
    "\n",
    "print('Example Edge:', finalPairs[1])"
   ]
  },
  {
   "cell_type": "code",
   "execution_count": null,
   "metadata": {},
   "outputs": [],
   "source": [
    "# split into 2 subnetworks\n",
    "magaTweets = tempDict['#MAGA']\n",
    "tindTweets = tempDict['#TrumpIsANationalDisgrace']"
   ]
  },
  {
   "cell_type": "markdown",
   "metadata": {},
   "source": [
    "#### Visualize Network"
   ]
  },
  {
   "cell_type": "markdown",
   "metadata": {},
   "source": [
    "First, we'll define a function to split the coordinates into their respective latitude and longitude values."
   ]
  },
  {
   "cell_type": "code",
   "execution_count": null,
   "metadata": {},
   "outputs": [],
   "source": [
    "city_data = pd.read_csv('covid_cases_citypop.csv')\n",
    "city_data.head()"
   ]
  },
  {
   "cell_type": "code",
   "execution_count": null,
   "metadata": {},
   "outputs": [],
   "source": [
    "Node = {}\n",
    "\n",
    "for idx, row in city_data.iterrows():\n",
    "    city = row['City']\n",
    "    if city not in Node:\n",
    "        attr = {}\n",
    "        lat = row['Lat']\n",
    "        long = row['Long']\n",
    "        pop = int(row['Population'])\n",
    "\n",
    "        cases = int(row['7/14/2020'])\n",
    "        attr['pos'] =  (float(long),float(lat))\n",
    "        attr['pop'] = int(pop/1000)\n",
    "        attr['cases'] = int(cases)\n",
    "        attr['cas_per_pop'] = round(cases/pop,5)\n",
    "        Node[city] = attr"
   ]
  },
  {
   "cell_type": "code",
   "execution_count": null,
   "metadata": {},
   "outputs": [],
   "source": [
    "def unpack_lat_long(lat_long):\n",
    "    split = lat_long.split(',')\n",
    "    lat = split[0]\n",
    "    long = split[1]\n",
    "    return lat, long\n",
    "\n",
    "def find_coord_of_hash(hash):\n",
    "    search = hash.lower()\n",
    "    coords = []\n",
    "    for key, value in tempDict.items():\n",
    "        if key.lower() == search:\n",
    "            for coord in value:\n",
    "                coords.append(coord) \n",
    "    lat_lst = []\n",
    "    long_lst = []\n",
    "    for city in coords:\n",
    "        lat, long = unpack_lat_long(city)\n",
    "        lat_lst.append(round(float(lat),2))\n",
    "        long_lst.append(round(float(long),2))\n",
    "    return coords, lat_lst, long_lst   "
   ]
  },
  {
   "cell_type": "code",
   "execution_count": null,
   "metadata": {},
   "outputs": [],
   "source": [
    "def coord_to_cities(node):\n",
    "    split = node.split(',')\n",
    "    lat = split[0]\n",
    "    long = split[1]\n",
    "    lat = round(float(lat),4)\n",
    "    long = round(float(long),4)\n",
    "    for idx, row in city_data.iterrows():\n",
    "        if lat == round(row['Lat'],4) and long == round(row['Long'],4):\n",
    "            return row['City']"
   ]
  },
  {
   "cell_type": "code",
   "execution_count": null,
   "metadata": {},
   "outputs": [],
   "source": [
    "#https://www.geeksforgeeks.org/python-program-to-count-duplicates-in-a-list-of-tuples/\n",
    "def count(listOfTuple): \n",
    "    count_map = {} \n",
    "    for i in listOfTuple: \n",
    "        count_map[i] = count_map.get(i, 0) +1\n",
    "    #print(count_map) \n",
    "    return count_map\n",
    "x = count(finalPairs)"
   ]
  },
  {
   "cell_type": "code",
   "execution_count": null,
   "metadata": {},
   "outputs": [],
   "source": [
    "w_edges = []\n",
    "for key, value in x.items():\n",
    "    w_edges.append(key + (value/10,))"
   ]
  },
  {
   "cell_type": "code",
   "execution_count": null,
   "metadata": {},
   "outputs": [],
   "source": [
    "G = nx.Graph()\n",
    "G.add_weighted_edges_from(w_edges)\n",
    "node_name_map = {}\n",
    "for node in G.nodes:\n",
    "    city= coord_to_cities(node)\n",
    "    node_name_map[node] = city\n",
    "G = nx.relabel_nodes(G, node_name_map)\n",
    "nx.set_node_attributes(G, Node)\n",
    "Gpos=nx.get_node_attributes(G,'pos')\n",
    "\n",
    "case_per_pop = list(nx.get_node_attributes(G,'cas_per_pop').values())\n",
    "cmin, cmax = min(case_per_pop), max(case_per_pop)\n",
    "for i, val in enumerate(case_per_pop):\n",
    "    case_per_pop[i] = ((val-cmin) / (cmax-cmin))*1500\n",
    "\n",
    "weights = [G[u][v]['weight'] for u,v in G.edges()]\n",
    "\n",
    "plt.figure(1, figsize=(16,12))\n",
    "nx.draw_networkx(G, pos = Gpos,node_size = case_per_pop, node_color = 'red', edge_color ='grey', with_labels = True, font_size = 12, width = weights)\n",
    "plt.show()"
   ]
  },
  {
   "cell_type": "markdown",
   "metadata": {},
   "source": [
    "### Edge Weights\n",
    "https://www.geeksforgeeks.org/python-program-to-count-duplicates-in-a-list-of-tuples/"
   ]
  },
  {
   "cell_type": "markdown",
   "metadata": {},
   "source": [
    "**Note from Zach**: Will remove this commented-out code later (see below), but thought I'd leave it just in case it'll be helpful for future visualizations:"
   ]
  },
  {
   "cell_type": "code",
   "execution_count": null,
   "metadata": {},
   "outputs": [],
   "source": [
    "# locator = mdates.MonthLocator()\n",
    "# fmt = mdates.DateFormatter('%B')\n",
    "\n",
    "\n",
    "# plt.plot(nyc_time_series['Date'], nyc_time_series['Confirmed_Cases'], c='indianred')\n",
    "# plt.plot(legend=None)\n",
    "# plt.title('Number of Confirmed COVID-19 Cases in New York City')\n",
    "# plt.xlabel('Date')\n",
    "# plt.ylabel('Number of Confirmed Cases')\n",
    "# plt.gca().xaxis.set_major_formatter(fmt)\n",
    "# plt.show()"
   ]
  }
 ],
 "metadata": {
  "kernelspec": {
   "display_name": "Python 3",
   "language": "python",
   "name": "python3"
  },
  "language_info": {
   "codemirror_mode": {
    "name": "ipython",
    "version": 3
   },
   "file_extension": ".py",
   "mimetype": "text/x-python",
   "name": "python",
   "nbconvert_exporter": "python",
   "pygments_lexer": "ipython3",
   "version": "3.7.6"
  }
 },
 "nbformat": 4,
 "nbformat_minor": 4
}
