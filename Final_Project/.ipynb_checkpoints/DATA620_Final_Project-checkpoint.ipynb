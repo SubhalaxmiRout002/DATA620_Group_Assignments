{
 "cells": [
  {
   "cell_type": "markdown",
   "metadata": {},
   "source": [
    "### CUNY Data 620 - Web Analytics, Summer 2020  \n",
    "**Final Project**   \n",
    "**Prof:** Alain Ledon  \n",
    "**Members:** Misha Kollontai, Amber Ferger, Zach Alexander, Subhalaxmi Rout \n",
    "\n",
    "**Youtube Link:** "
   ]
  },
  {
   "cell_type": "markdown",
   "metadata": {},
   "source": [
    "### Instructions\n",
    "Your project should incorporate one or both of the two main themes of this course: network analysis and text processing. You need to show all of your work in a coherent workflow, and in a reproducible format, such as an IPython Notebook or an R Markdown document. If you are building a model or models, explain how you evaluate the “goodness” of the chosen model and parameters. "
   ]
  },
  {
   "cell_type": "markdown",
   "metadata": {},
   "source": [
    "### Research Purpose\n",
    "\n",
    "For this project, we will be pulling twitter data related to the Coronavirus pandemic in the United States. Our primary objective will be to identify the relationship between city and overall sentiment towards covid. We will look at the average daily tweet sentiment for **NYC** (severe initial wave) and **New Orleans** (experiencing something of a second wave) to see if there are regional differences. From this, we would like to answer the following questions:\n",
    "\n",
    "* Is there a relationship between location-specific Covid-19 sentiment and the number of positive cases within that region?\n",
    "* Does positive sentiment preceed spikes in positive cases?\n",
    "\n",
    "As a secondary objective, we would like to identify relationships between major US cities by looking at shared tweet hashtags. We aim to create a network from these relationships where nodes represent cities and edges represent shared use of hashtags. In doing this, we would like to answer the following questions:\n",
    "\n",
    "* What issues (additional hashtags) are discussed in conjunction with Covid-19?\n",
    "* What differences in hashtag use is there across the country?\n",
    "* Are there certain cities that care about similar issues (additional hashtags)?\n",
    "\n",
    "As a stretch goal, we would also like to answer the question: Is there a relationship between location-specific Covid-19 hashtags and the number of positive cases within that region? "
   ]
  },
  {
   "cell_type": "markdown",
   "metadata": {},
   "source": [
    "### The Data\n",
    "\n",
    "#### Relevant Cities\n",
    "First, we generated a list of geocodes that related to the most populous city in each US state (plus DC). This data was pulled from the [1000 Largest US Cities By Population With Geographic Coordinates](https://public.opendatasoft.com/explore/dataset/1000-largest-us-cities-by-population-with-geographic-coordinates/table/?sort=-rank). \n",
    "\n",
    "\n",
    "#### Covid-Tweets\n",
    "Our initial plan was to use the Twitter API to pull in relevant tweets, but we later realized that the API only allows users to pull back 5 days worth of data. Because of this, we turned to the [*GetOldTweets3*](https://pypi.org/project/GetOldTweets3/) package, which allowed us to return tweets with the following specifications:\n",
    "\n",
    "* **Date Range**: 3/8/2020 - 7/15/2020, pulled in biweekly groupings by city.\n",
    "* The tweet itself contains the word **Covid** or it is included in one of the hashtags.\n",
    "* The limit on the total number of tweets per API call is 1000 per date increment. Some of our cities had the full 1000 tweets while others contained less. \n",
    "\n",
    "Our final output includes: tweet text, additional hashtags, tweet date, twitter username, and city coordinates. \n",
    "\n",
    "Please see the **tweetPull** notebook for more information about the the extraction of relevant tweets. \n",
    "\n",
    "\n",
    "#### Covid Case Numbers\n",
    "\n",
    "We used [John's Hopkins COVID-19 Data](https://github.com/CSSEGISandData/COVID-19) and [Wikipedia](https://en.wikipedia.org/wiki/COVID-19_pandemic_in_the_United_States) for the COVID-19 numbers. "
   ]
  },
  {
   "cell_type": "markdown",
   "metadata": {},
   "source": [
    "### Libraries"
   ]
  },
  {
   "cell_type": "code",
   "execution_count": 1,
   "metadata": {},
   "outputs": [],
   "source": [
    "import pandas as pd\n",
    "import numpy as np\n",
    "from itertools import combinations\n",
    "from vaderSentiment.vaderSentiment import SentimentIntensityAnalyzer\n",
    "import matplotlib.pyplot as plt\n",
    "import matplotlib.dates as mdates\n",
    "from matplotlib import gridspec\n",
    "from matplotlib.pyplot import text\n",
    "#from mpl_toolkits.basemap import Basemap\n",
    "import networkx as nx\n",
    "import warnings\n",
    "warnings.filterwarnings('ignore')\n",
    "import datetime"
   ]
  },
  {
   "cell_type": "markdown",
   "metadata": {},
   "source": [
    "### Data\n",
    "First, we'll pull in our twitter and our covid cases data. Since our first set of research questions are focused only on New York and New Orleans, we will create separate dataframes for this information. \n",
    "\n",
    "#### Twitter Data\n",
    "We can see that each state has 1000 tweets within the timeframe."
   ]
  },
  {
   "cell_type": "code",
   "execution_count": 2,
   "metadata": {},
   "outputs": [
    {
     "name": "stdout",
     "output_type": "stream",
     "text": [
      "Number of NY tweets:  (1800, 11)\n",
      "Number of New Orleans tweets:  (1756, 11)\n"
     ]
    },
    {
     "data": {
      "text/plain": [
       "'2020-07-10 23:59:47+00:00'"
      ]
     },
     "execution_count": 2,
     "metadata": {},
     "output_type": "execute_result"
    }
   ],
   "source": [
    "# read in and replace nulls\n",
    "tweets = pd.read_csv('csv_combined.csv', delimiter=',')\n",
    "tweets = tweets.replace(np.nan, '', regex=True)\n",
    "\n",
    "nyTweets = tweets[tweets[\"City\"] == \"New York\"]\n",
    "noTweets = tweets[tweets[\"City\"] == \"New Orleans\"]\n",
    "\n",
    "print('Number of NY tweets: ', nyTweets.shape)\n",
    "print('Number of New Orleans tweets: ',noTweets.shape)\n",
    "nyTweets['TWEET_DATE'].min()\n",
    "nyTweets['TWEET_DATE'].max()"
   ]
  },
  {
   "cell_type": "code",
   "execution_count": 3,
   "metadata": {},
   "outputs": [
    {
     "name": "stdout",
     "output_type": "stream",
     "text": [
      "Number of Anchorage tweets:  (682, 11)\n"
     ]
    }
   ],
   "source": [
    "AnchTweets = tweets[tweets[\"City\"] == \"Anchorage\"]\n",
    "print('Number of Anchorage tweets: ', AnchTweets.shape)"
   ]
  },
  {
   "cell_type": "markdown",
   "metadata": {},
   "source": [
    "##### Covid Case Data\n",
    "\n",
    "We'll filter by FIPS code, transpose the data to create the proper format, reset the index, and adjust the datetype. \n",
    "\n",
    "We can take a quick look at the last 5 dates for NYC dataset:"
   ]
  },
  {
   "cell_type": "code",
   "execution_count": 4,
   "metadata": {},
   "outputs": [
    {
     "data": {
      "text/html": [
       "<div>\n",
       "<style scoped>\n",
       "    .dataframe tbody tr th:only-of-type {\n",
       "        vertical-align: middle;\n",
       "    }\n",
       "\n",
       "    .dataframe tbody tr th {\n",
       "        vertical-align: top;\n",
       "    }\n",
       "\n",
       "    .dataframe thead th {\n",
       "        text-align: right;\n",
       "    }\n",
       "</style>\n",
       "<table border=\"1\" class=\"dataframe\">\n",
       "  <thead>\n",
       "    <tr style=\"text-align: right;\">\n",
       "      <th></th>\n",
       "      <th>Date</th>\n",
       "      <th>Confirmed_Cases</th>\n",
       "    </tr>\n",
       "  </thead>\n",
       "  <tbody>\n",
       "    <tr>\n",
       "      <th>170</th>\n",
       "      <td>2020-07-10</td>\n",
       "      <td>218403</td>\n",
       "    </tr>\n",
       "    <tr>\n",
       "      <th>171</th>\n",
       "      <td>2020-07-11</td>\n",
       "      <td>218710</td>\n",
       "    </tr>\n",
       "    <tr>\n",
       "      <th>172</th>\n",
       "      <td>2020-07-12</td>\n",
       "      <td>219051</td>\n",
       "    </tr>\n",
       "    <tr>\n",
       "      <th>173</th>\n",
       "      <td>2020-07-13</td>\n",
       "      <td>219301</td>\n",
       "    </tr>\n",
       "    <tr>\n",
       "      <th>174</th>\n",
       "      <td>2020-07-14</td>\n",
       "      <td>219616</td>\n",
       "    </tr>\n",
       "  </tbody>\n",
       "</table>\n",
       "</div>"
      ],
      "text/plain": [
       "          Date  Confirmed_Cases\n",
       "170 2020-07-10           218403\n",
       "171 2020-07-11           218710\n",
       "172 2020-07-12           219051\n",
       "173 2020-07-13           219301\n",
       "174 2020-07-14           219616"
      ]
     },
     "execution_count": 4,
     "metadata": {},
     "output_type": "execute_result"
    }
   ],
   "source": [
    "# load in covid case data\n",
    "covid_cases = pd.read_csv('confirmed_cases.csv')\n",
    "\n",
    "########## NYC cases\n",
    "cases_filtered = covid_cases[covid_cases['FIPS'] == 36061]\n",
    "df = cases_filtered.iloc[:, 11:186:1]\n",
    "\n",
    "df = df.transpose().reset_index()\n",
    "df = df.rename(columns={'index': 'Date', 1863: \"Confirmed_Cases\"})\n",
    "\n",
    "nyc_time_series = pd.DataFrame(df, columns = ['Date','Confirmed_Cases'])\n",
    "nyc_time_series['Date'] = pd.to_datetime(nyc_time_series['Date'], format='%m/%d/%y')\n",
    "\n",
    "nyc_time_series.tail()"
   ]
  },
  {
   "cell_type": "markdown",
   "metadata": {},
   "source": [
    "And also for New Orleans:"
   ]
  },
  {
   "cell_type": "code",
   "execution_count": 5,
   "metadata": {},
   "outputs": [
    {
     "data": {
      "text/html": [
       "<div>\n",
       "<style scoped>\n",
       "    .dataframe tbody tr th:only-of-type {\n",
       "        vertical-align: middle;\n",
       "    }\n",
       "\n",
       "    .dataframe tbody tr th {\n",
       "        vertical-align: top;\n",
       "    }\n",
       "\n",
       "    .dataframe thead th {\n",
       "        text-align: right;\n",
       "    }\n",
       "</style>\n",
       "<table border=\"1\" class=\"dataframe\">\n",
       "  <thead>\n",
       "    <tr style=\"text-align: right;\">\n",
       "      <th></th>\n",
       "      <th>Date</th>\n",
       "      <th>Confirmed_Cases</th>\n",
       "    </tr>\n",
       "  </thead>\n",
       "  <tbody>\n",
       "    <tr>\n",
       "      <th>170</th>\n",
       "      <td>2020-07-10</td>\n",
       "      <td>8476</td>\n",
       "    </tr>\n",
       "    <tr>\n",
       "      <th>171</th>\n",
       "      <td>2020-07-11</td>\n",
       "      <td>8598</td>\n",
       "    </tr>\n",
       "    <tr>\n",
       "      <th>172</th>\n",
       "      <td>2020-07-12</td>\n",
       "      <td>8665</td>\n",
       "    </tr>\n",
       "    <tr>\n",
       "      <th>173</th>\n",
       "      <td>2020-07-13</td>\n",
       "      <td>8745</td>\n",
       "    </tr>\n",
       "    <tr>\n",
       "      <th>174</th>\n",
       "      <td>2020-07-14</td>\n",
       "      <td>8846</td>\n",
       "    </tr>\n",
       "  </tbody>\n",
       "</table>\n",
       "</div>"
      ],
      "text/plain": [
       "          Date  Confirmed_Cases\n",
       "170 2020-07-10             8476\n",
       "171 2020-07-11             8598\n",
       "172 2020-07-12             8665\n",
       "173 2020-07-13             8745\n",
       "174 2020-07-14             8846"
      ]
     },
     "execution_count": 5,
     "metadata": {},
     "output_type": "execute_result"
    }
   ],
   "source": [
    "########## New Orleans cases\n",
    "cases_filtered_newo = covid_cases[covid_cases['FIPS'] == 22071]\n",
    "df_newo = cases_filtered_newo.iloc[:, 11:186:1]\n",
    "\n",
    "df_newo = df_newo.transpose().reset_index()\n",
    "df_newo = df_newo.rename(columns={'index': 'Date', 1153: \"Confirmed_Cases\"})\n",
    "\n",
    "newo_time_series = pd.DataFrame(df_newo, columns = ['Date','Confirmed_Cases'])\n",
    "newo_time_series['Date'] = pd.to_datetime(newo_time_series['Date'], format='%m/%d/%y')\n",
    "\n",
    "newo_time_series.tail()"
   ]
  },
  {
   "cell_type": "markdown",
   "metadata": {},
   "source": [
    "Next, to eventually visualize our data, we'll create a few custom functions to generate more tangible values for our case counts. \n",
    "\n",
    "In order to find the number of new cases per day, we can utilize our confirmed cases column to take the difference between the current day and the previous day. Additionally, for our visualization, we can take the 7-day average of new cases and plot this as well, in order to obtain a better view of trends over time."
   ]
  },
  {
   "cell_type": "code",
   "execution_count": 6,
   "metadata": {},
   "outputs": [],
   "source": [
    "############### New cases per day\n",
    "def add_newcases(df):\n",
    "    df['New_Cases'] = 'NA'\n",
    "    for i in range(0, len(df['Confirmed_Cases'])):\n",
    "        if i == 0:\n",
    "            df['New_Cases'][i] = 0\n",
    "        else:\n",
    "            df['New_Cases'][i] = df['Confirmed_Cases'][i] - df['Confirmed_Cases'][i-1]\n",
    "    return df\n",
    "\n",
    "############### Seven day averages\n",
    "def add_sevenday(df):\n",
    "    df['Seven_Day_Avg'] = 'NA'\n",
    "    for i in range(0, len(df['Confirmed_Cases'])):\n",
    "        if i < 8:\n",
    "            df['Seven_Day_Avg'][i] = 0\n",
    "        else:\n",
    "            weekly = []\n",
    "            for y in range(0,7):\n",
    "                weekly.append(df['New_Cases'][i-y])\n",
    "            df['Seven_Day_Avg'][i] = sum(weekly) / 7\n",
    "    return df"
   ]
  },
  {
   "cell_type": "markdown",
   "metadata": {},
   "source": [
    "We can then use these functions to manipulate our data frames:"
   ]
  },
  {
   "cell_type": "code",
   "execution_count": 8,
   "metadata": {},
   "outputs": [
    {
     "data": {
      "text/html": [
       "<div>\n",
       "<style scoped>\n",
       "    .dataframe tbody tr th:only-of-type {\n",
       "        vertical-align: middle;\n",
       "    }\n",
       "\n",
       "    .dataframe tbody tr th {\n",
       "        vertical-align: top;\n",
       "    }\n",
       "\n",
       "    .dataframe thead th {\n",
       "        text-align: right;\n",
       "    }\n",
       "</style>\n",
       "<table border=\"1\" class=\"dataframe\">\n",
       "  <thead>\n",
       "    <tr style=\"text-align: right;\">\n",
       "      <th></th>\n",
       "      <th>Date</th>\n",
       "      <th>Confirmed_Cases</th>\n",
       "      <th>New_Cases</th>\n",
       "      <th>Seven_Day_Avg</th>\n",
       "    </tr>\n",
       "  </thead>\n",
       "  <tbody>\n",
       "    <tr>\n",
       "      <th>0</th>\n",
       "      <td>2020-01-22</td>\n",
       "      <td>0</td>\n",
       "      <td>0</td>\n",
       "      <td>0</td>\n",
       "    </tr>\n",
       "    <tr>\n",
       "      <th>1</th>\n",
       "      <td>2020-01-23</td>\n",
       "      <td>0</td>\n",
       "      <td>0</td>\n",
       "      <td>0</td>\n",
       "    </tr>\n",
       "    <tr>\n",
       "      <th>2</th>\n",
       "      <td>2020-01-24</td>\n",
       "      <td>0</td>\n",
       "      <td>0</td>\n",
       "      <td>0</td>\n",
       "    </tr>\n",
       "    <tr>\n",
       "      <th>3</th>\n",
       "      <td>2020-01-25</td>\n",
       "      <td>0</td>\n",
       "      <td>0</td>\n",
       "      <td>0</td>\n",
       "    </tr>\n",
       "    <tr>\n",
       "      <th>4</th>\n",
       "      <td>2020-01-26</td>\n",
       "      <td>0</td>\n",
       "      <td>0</td>\n",
       "      <td>0</td>\n",
       "    </tr>\n",
       "    <tr>\n",
       "      <th>...</th>\n",
       "      <td>...</td>\n",
       "      <td>...</td>\n",
       "      <td>...</td>\n",
       "      <td>...</td>\n",
       "    </tr>\n",
       "    <tr>\n",
       "      <th>170</th>\n",
       "      <td>2020-07-10</td>\n",
       "      <td>218403</td>\n",
       "      <td>351</td>\n",
       "      <td>291.571</td>\n",
       "    </tr>\n",
       "    <tr>\n",
       "      <th>171</th>\n",
       "      <td>2020-07-11</td>\n",
       "      <td>218710</td>\n",
       "      <td>307</td>\n",
       "      <td>282.857</td>\n",
       "    </tr>\n",
       "    <tr>\n",
       "      <th>172</th>\n",
       "      <td>2020-07-12</td>\n",
       "      <td>219051</td>\n",
       "      <td>341</td>\n",
       "      <td>297.429</td>\n",
       "    </tr>\n",
       "    <tr>\n",
       "      <th>173</th>\n",
       "      <td>2020-07-13</td>\n",
       "      <td>219301</td>\n",
       "      <td>250</td>\n",
       "      <td>297.857</td>\n",
       "    </tr>\n",
       "    <tr>\n",
       "      <th>174</th>\n",
       "      <td>2020-07-14</td>\n",
       "      <td>219616</td>\n",
       "      <td>315</td>\n",
       "      <td>304</td>\n",
       "    </tr>\n",
       "  </tbody>\n",
       "</table>\n",
       "<p>175 rows × 4 columns</p>\n",
       "</div>"
      ],
      "text/plain": [
       "          Date  Confirmed_Cases New_Cases Seven_Day_Avg\n",
       "0   2020-01-22                0         0             0\n",
       "1   2020-01-23                0         0             0\n",
       "2   2020-01-24                0         0             0\n",
       "3   2020-01-25                0         0             0\n",
       "4   2020-01-26                0         0             0\n",
       "..         ...              ...       ...           ...\n",
       "170 2020-07-10           218403       351       291.571\n",
       "171 2020-07-11           218710       307       282.857\n",
       "172 2020-07-12           219051       341       297.429\n",
       "173 2020-07-13           219301       250       297.857\n",
       "174 2020-07-14           219616       315           304\n",
       "\n",
       "[175 rows x 4 columns]"
      ]
     },
     "execution_count": 8,
     "metadata": {},
     "output_type": "execute_result"
    }
   ],
   "source": [
    "add_newcases(newo_time_series)\n",
    "add_sevenday(newo_time_series)\n",
    "\n",
    "add_newcases(nyc_time_series)\n",
    "add_sevenday(nyc_time_series)"
   ]
  },
  {
   "cell_type": "markdown",
   "metadata": {},
   "source": [
    "Here's a snapshot of our data frames containing our relevant COVID-19 data:"
   ]
  },
  {
   "cell_type": "code",
   "execution_count": 9,
   "metadata": {},
   "outputs": [
    {
     "data": {
      "text/html": [
       "<div>\n",
       "<style scoped>\n",
       "    .dataframe tbody tr th:only-of-type {\n",
       "        vertical-align: middle;\n",
       "    }\n",
       "\n",
       "    .dataframe tbody tr th {\n",
       "        vertical-align: top;\n",
       "    }\n",
       "\n",
       "    .dataframe thead th {\n",
       "        text-align: right;\n",
       "    }\n",
       "</style>\n",
       "<table border=\"1\" class=\"dataframe\">\n",
       "  <thead>\n",
       "    <tr style=\"text-align: right;\">\n",
       "      <th></th>\n",
       "      <th>Date</th>\n",
       "      <th>Confirmed_Cases</th>\n",
       "      <th>New_Cases</th>\n",
       "      <th>Seven_Day_Avg</th>\n",
       "    </tr>\n",
       "  </thead>\n",
       "  <tbody>\n",
       "    <tr>\n",
       "      <th>170</th>\n",
       "      <td>2020-07-10</td>\n",
       "      <td>8476</td>\n",
       "      <td>132</td>\n",
       "      <td>63.5714</td>\n",
       "    </tr>\n",
       "    <tr>\n",
       "      <th>171</th>\n",
       "      <td>2020-07-11</td>\n",
       "      <td>8598</td>\n",
       "      <td>122</td>\n",
       "      <td>81</td>\n",
       "    </tr>\n",
       "    <tr>\n",
       "      <th>172</th>\n",
       "      <td>2020-07-12</td>\n",
       "      <td>8665</td>\n",
       "      <td>67</td>\n",
       "      <td>79.7143</td>\n",
       "    </tr>\n",
       "    <tr>\n",
       "      <th>173</th>\n",
       "      <td>2020-07-13</td>\n",
       "      <td>8745</td>\n",
       "      <td>80</td>\n",
       "      <td>86</td>\n",
       "    </tr>\n",
       "    <tr>\n",
       "      <th>174</th>\n",
       "      <td>2020-07-14</td>\n",
       "      <td>8846</td>\n",
       "      <td>101</td>\n",
       "      <td>91.4286</td>\n",
       "    </tr>\n",
       "  </tbody>\n",
       "</table>\n",
       "</div>"
      ],
      "text/plain": [
       "          Date  Confirmed_Cases New_Cases Seven_Day_Avg\n",
       "170 2020-07-10             8476       132       63.5714\n",
       "171 2020-07-11             8598       122            81\n",
       "172 2020-07-12             8665        67       79.7143\n",
       "173 2020-07-13             8745        80            86\n",
       "174 2020-07-14             8846       101       91.4286"
      ]
     },
     "execution_count": 9,
     "metadata": {},
     "output_type": "execute_result"
    }
   ],
   "source": [
    "newo_time_series.tail()"
   ]
  },
  {
   "cell_type": "code",
   "execution_count": 10,
   "metadata": {},
   "outputs": [
    {
     "data": {
      "text/html": [
       "<div>\n",
       "<style scoped>\n",
       "    .dataframe tbody tr th:only-of-type {\n",
       "        vertical-align: middle;\n",
       "    }\n",
       "\n",
       "    .dataframe tbody tr th {\n",
       "        vertical-align: top;\n",
       "    }\n",
       "\n",
       "    .dataframe thead th {\n",
       "        text-align: right;\n",
       "    }\n",
       "</style>\n",
       "<table border=\"1\" class=\"dataframe\">\n",
       "  <thead>\n",
       "    <tr style=\"text-align: right;\">\n",
       "      <th></th>\n",
       "      <th>Date</th>\n",
       "      <th>Confirmed_Cases</th>\n",
       "      <th>New_Cases</th>\n",
       "      <th>Seven_Day_Avg</th>\n",
       "    </tr>\n",
       "  </thead>\n",
       "  <tbody>\n",
       "    <tr>\n",
       "      <th>170</th>\n",
       "      <td>2020-07-10</td>\n",
       "      <td>218403</td>\n",
       "      <td>351</td>\n",
       "      <td>291.571</td>\n",
       "    </tr>\n",
       "    <tr>\n",
       "      <th>171</th>\n",
       "      <td>2020-07-11</td>\n",
       "      <td>218710</td>\n",
       "      <td>307</td>\n",
       "      <td>282.857</td>\n",
       "    </tr>\n",
       "    <tr>\n",
       "      <th>172</th>\n",
       "      <td>2020-07-12</td>\n",
       "      <td>219051</td>\n",
       "      <td>341</td>\n",
       "      <td>297.429</td>\n",
       "    </tr>\n",
       "    <tr>\n",
       "      <th>173</th>\n",
       "      <td>2020-07-13</td>\n",
       "      <td>219301</td>\n",
       "      <td>250</td>\n",
       "      <td>297.857</td>\n",
       "    </tr>\n",
       "    <tr>\n",
       "      <th>174</th>\n",
       "      <td>2020-07-14</td>\n",
       "      <td>219616</td>\n",
       "      <td>315</td>\n",
       "      <td>304</td>\n",
       "    </tr>\n",
       "  </tbody>\n",
       "</table>\n",
       "</div>"
      ],
      "text/plain": [
       "          Date  Confirmed_Cases New_Cases Seven_Day_Avg\n",
       "170 2020-07-10           218403       351       291.571\n",
       "171 2020-07-11           218710       307       282.857\n",
       "172 2020-07-12           219051       341       297.429\n",
       "173 2020-07-13           219301       250       297.857\n",
       "174 2020-07-14           219616       315           304"
      ]
     },
     "execution_count": 10,
     "metadata": {},
     "output_type": "execute_result"
    }
   ],
   "source": [
    "nyc_time_series.tail()"
   ]
  },
  {
   "cell_type": "markdown",
   "metadata": {},
   "source": [
    "### Sentiment Analysis\n",
    "\n",
    "In order to capture the sentiment of our tweets, we'll use the *vaderSentiment* package. We will define a customized function that returns the negative, positive, neutral, and compound scores of the given tweet. We'll also define a function that will format the final output of the sentiment analysis."
   ]
  },
  {
   "cell_type": "code",
   "execution_count": 12,
   "metadata": {},
   "outputs": [],
   "source": [
    "# instantiate sentiment analyzer, define function for sentiment output\n",
    "analyser = SentimentIntensityAnalyzer()\n",
    "\n",
    "############### sentiment analysis\n",
    "def sentiment_analyzer_scores(sentence):\n",
    "    score = analyser.polarity_scores(sentence)\n",
    "    neg = score['neg']\n",
    "    pos = score['pos']\n",
    "    neu = score['neu']\n",
    "    compound= score['compound']\n",
    "    \n",
    "    return [neg,pos,neu,compound, sentence]\n",
    "\n",
    "############### splitting hashtag groupings\n",
    "def splitTags(x,y):\n",
    "    return [(x,z) for z in y]\n",
    "\n",
    "############### analysis formatting\n",
    "def formatSentiment(ls, df):\n",
    "    sents = [sentiment_analyzer_scores(s) for s in ls]\n",
    "    sentDf = pd.DataFrame(sents, columns = ['NEGATIVE_SCORE', 'POSITIVE_SCORE', 'NEUTRAL_SCORE', 'COMPOUND', 'SENTENCE'])\n",
    "    final = df.join(sentDf)\n",
    "    return final.iloc[:,1:-1]"
   ]
  },
  {
   "cell_type": "code",
   "execution_count": 13,
   "metadata": {},
   "outputs": [],
   "source": [
    "# read in and replace nulls\n",
    "tweets = pd.read_csv('csv_combined.csv', delimiter=',')\n",
    "tweets = tweets.replace(np.nan, '', regex=True)\n",
    "\n",
    "# instantiate sentiment analyzer, define function for sentiment output\n",
    "analyser = SentimentIntensityAnalyzer()"
   ]
  },
  {
   "cell_type": "code",
   "execution_count": 14,
   "metadata": {},
   "outputs": [],
   "source": [
    "# sentiments to dataframe\n",
    "text = tweets['TEXT'].tolist()\n",
    "sentiments = [sentiment_analyzer_scores(s) for s in text]\n",
    "sentiments_df = pd.DataFrame(sentiments, columns = ['NEGATIVE_SCORE', 'POSITIVE_SCORE', 'NEUTRAL_SCORE', 'COMPOUND', 'SENTENCE'])\n",
    "\n",
    "# final dataframe with sentiments\n",
    "finalFrame = tweets.join(sentiments_df)\n",
    "finalFrame = finalFrame.iloc[:,1:-1]"
   ]
  },
  {
   "cell_type": "markdown",
   "metadata": {},
   "source": [
    "We can then apply this function to our twitter dataframe and separate by city. "
   ]
  },
  {
   "cell_type": "code",
   "execution_count": 15,
   "metadata": {},
   "outputs": [],
   "source": [
    "text = tweets['TEXT'].tolist()\n",
    "finalSentiment = formatSentiment(text, tweets)\n",
    "\n",
    "noTweets = finalSentiment[finalSentiment[\"City\"] == \"New Orleans\"]\n",
    "nyTweets = finalSentiment[finalSentiment[\"City\"] == \"New York\"]"
   ]
  },
  {
   "cell_type": "markdown",
   "metadata": {},
   "source": [
    "### Visualizing COVID data with Twitter Sentiment Analysis"
   ]
  },
  {
   "cell_type": "markdown",
   "metadata": {},
   "source": [
    "With our sentiment analysis conducted, and the sentiment scores separated out based on our two cities, we can then start to manipulate our data frames to get them ready for visualization. First, we'll isolate the dates and compound sentiment scores for tweets in each week starting from mid-March through early July 2020."
   ]
  },
  {
   "cell_type": "code",
   "execution_count": 20,
   "metadata": {},
   "outputs": [],
   "source": [
    "dfSent_NO = noTweets[['WEEK_END','COMPOUND']]\n",
    "dfSent_NYC = nyTweets[['WEEK_END', 'COMPOUND']]"
   ]
  },
  {
   "cell_type": "markdown",
   "metadata": {},
   "source": [
    "Then, we decided to reformat columns and merge the case count data we worked on earlier with our sentiment analysis scores to create a snapshot of twitter sentiment and COVID-19 case counts by week."
   ]
  },
  {
   "cell_type": "code",
   "execution_count": 21,
   "metadata": {},
   "outputs": [],
   "source": [
    "dfSent_NO = dfSent_NO.groupby('WEEK_END')['COMPOUND'].mean().reset_index()\n",
    "dfSent_NO.rename(columns = {'WEEK_END': 'Date'}, inplace = True) \n",
    "\n",
    "dfSent_NYC = dfSent_NYC.groupby('WEEK_END')['COMPOUND'].mean().reset_index()\n",
    "dfSent_NYC.rename(columns = {'WEEK_END': 'Date'}, inplace = True) "
   ]
  },
  {
   "cell_type": "code",
   "execution_count": 22,
   "metadata": {},
   "outputs": [],
   "source": [
    "newo_time_series['Date']= pd.to_datetime(newo_time_series['Date']) \n",
    "dfSent_NO['Date']= pd.to_datetime(dfSent_NO['Date'])\n",
    "\n",
    "fig_df_NO = pd.merge(newo_time_series, dfSent_NO, how='left', on='Date')\n",
    "fig_df_NO.iat[0,4] = 0\n",
    "fig_df_NO['COMPOUND']= fig_df_NO['COMPOUND'].fillna(method='ffill')\n",
    "\n",
    "nyc_time_series['Date']= pd.to_datetime(nyc_time_series['Date']) \n",
    "dfSent_NYC['Date']= pd.to_datetime(dfSent_NYC['Date'])\n",
    "\n",
    "fig_df_NYC = pd.merge(nyc_time_series, dfSent_NYC, how='left', on='Date')\n",
    "fig_df_NYC.iat[0,4] = 0\n",
    "fig_df_NYC['COMPOUND']= fig_df_NYC['COMPOUND'].fillna(method='ffill')"
   ]
  },
  {
   "cell_type": "markdown",
   "metadata": {},
   "source": [
    "##### Locating important dates and events in the COVID-19 timeline for New York City and New Orleans"
   ]
  },
  {
   "cell_type": "code",
   "execution_count": 35,
   "metadata": {},
   "outputs": [
    {
     "ename": "TypeError",
     "evalue": "'list' object is not callable",
     "output_type": "error",
     "traceback": [
      "\u001b[1;31m---------------------------------------------------------------------------\u001b[0m",
      "\u001b[1;31mTypeError\u001b[0m                                 Traceback (most recent call last)",
      "\u001b[1;32m<ipython-input-35-4d9a18682b5a>\u001b[0m in \u001b[0;36m<module>\u001b[1;34m\u001b[0m\n\u001b[0;32m     38\u001b[0m \u001b[1;31m#### loading in important dates and events\u001b[0m\u001b[1;33m\u001b[0m\u001b[1;33m\u001b[0m\u001b[1;33m\u001b[0m\u001b[0m\n\u001b[0;32m     39\u001b[0m \u001b[1;32mfor\u001b[0m \u001b[0mx\u001b[0m \u001b[1;32min\u001b[0m \u001b[0mrange\u001b[0m\u001b[1;33m(\u001b[0m\u001b[1;36m1\u001b[0m\u001b[1;33m,\u001b[0m \u001b[0mlen\u001b[0m\u001b[1;33m(\u001b[0m\u001b[0mimportant_dates_no\u001b[0m\u001b[1;33m)\u001b[0m\u001b[1;33m)\u001b[0m\u001b[1;33m:\u001b[0m\u001b[1;33m\u001b[0m\u001b[1;33m\u001b[0m\u001b[0m\n\u001b[1;32m---> 40\u001b[1;33m     \u001b[0mtext\u001b[0m\u001b[1;33m(\u001b[0m\u001b[0mimportant_dates_no\u001b[0m\u001b[1;33m[\u001b[0m\u001b[0mx\u001b[0m\u001b[1;33m]\u001b[0m\u001b[1;33m-\u001b[0m\u001b[1;36m5\u001b[0m\u001b[1;33m,\u001b[0m \u001b[1;36m715\u001b[0m\u001b[1;33m,\u001b[0m \u001b[0mimportant_events_no\u001b[0m\u001b[1;33m[\u001b[0m\u001b[0mx\u001b[0m\u001b[1;33m]\u001b[0m\u001b[1;33m,\u001b[0m \u001b[0mrotation\u001b[0m\u001b[1;33m=\u001b[0m\u001b[1;36m0\u001b[0m\u001b[1;33m)\u001b[0m\u001b[1;33m\u001b[0m\u001b[1;33m\u001b[0m\u001b[0m\n\u001b[0m\u001b[0;32m     41\u001b[0m \u001b[1;33m\u001b[0m\u001b[0m\n\u001b[0;32m     42\u001b[0m \u001b[0mplt\u001b[0m\u001b[1;33m.\u001b[0m\u001b[0mgca\u001b[0m\u001b[1;33m(\u001b[0m\u001b[1;33m)\u001b[0m\u001b[1;33m.\u001b[0m\u001b[0mxaxis\u001b[0m\u001b[1;33m.\u001b[0m\u001b[0mset_major_formatter\u001b[0m\u001b[1;33m(\u001b[0m\u001b[0mfmt\u001b[0m\u001b[1;33m)\u001b[0m\u001b[1;33m\u001b[0m\u001b[1;33m\u001b[0m\u001b[0m\n",
      "\u001b[1;31mTypeError\u001b[0m: 'list' object is not callable"
     ]
    },
    {
     "data": {
      "image/png": "[encoded data removed]",
      "text/plain": [
       "<Figure size 1152x864 with 2 Axes>"
      ]
     },
     "metadata": {
      "needs_background": "light"
     },
     "output_type": "display_data"
    }
   ],
   "source": [
    "#### assigning dimensions of chart\n",
    "plt.subplots(figsize=(16,12))\n",
    "gs = gridspec.GridSpec(2, 1, height_ratios=[3, 1]) \n",
    "locator = mdates.MonthLocator()\n",
    "fmt = mdates.DateFormatter('%B')\n",
    "\n",
    "important_dates_no = np.array([datetime.datetime(2020,3,9), \n",
    "                         datetime.datetime(2020,3,22),\n",
    "                         datetime.datetime(2020,4,13),\n",
    "                         datetime.datetime(2020,5,15),\n",
    "                         datetime.datetime(2020,6,12),\n",
    "                         datetime.datetime(2020,6,27)])\n",
    "important_dates_no = mdates.date2num(important_dates_no)\n",
    "\n",
    "important_events_no = np.array([\"First case \\n reported \\n in Louisiana\",\n",
    "                         \"Governor Edwards \\n issues 'Stay at Home'\\n order\",\n",
    "                         \"Louisiana sees the \\n lowest percent \\n increase in cases \\n since the outbreak began\",\n",
    "                         \"Louisiana Phase 1 \\n reopening begins. \\n However, the mayor of \\n New Orleans \\n puts city-wide \\n restrictions on \\n restaurants, bars, and \\n retail businesses.\",\n",
    "                         \"New Orleans \\n joins the rest of \\n the state in \\n Phase 2 \\n reopening\",\n",
    "                         \"Governor Edwards \\n haults the \\n reopening process, \\n not moving to Phase 3, \\n amid new cases.\"])\n",
    "\n",
    "#### creating the covid cases chart\n",
    "ax1 = plt.subplot(gs[0])\n",
    "ax1.set_title('Number of new COVID-19 cases in New Orleans')\n",
    "ax1.bar(fig_df_NO['Date'], fig_df_NO['New_Cases'], color='indianred', alpha=0.4)\n",
    "ax1.plot(fig_df_NO['Date'], fig_df_NO['Seven_Day_Avg'], c='indianred', linewidth=3)\n",
    "ax1.vlines(x=important_dates_no, ymin=-50, ymax=700, color='black', linestyle='--', linewidth=1)\n",
    "plt.gca().xaxis.set_major_formatter(fmt)\n",
    "\n",
    "#### creating the sentiment analysis chart\n",
    "ax2 = plt.subplot(gs[1])\n",
    "ax2.set_title('Twitter Sentiment of COVID-19 Tweets from New Orleans')\n",
    "ax2.plot(fig_df_NO['Date'], fig_df_NO['COMPOUND'], color='steelblue', linewidth=3)\n",
    "ax2.axhline(linewidth=2, color='#555555', linestyle='--')\n",
    "ax2.vlines(x=important_dates_no, ymin=-0.2, ymax=2, color='black', linestyle='--', linewidth=1)\n",
    "ax2.set_ylim([-.2, .2])\n",
    "\n",
    "#### loading in important dates and events\n",
    "for x in range(1, len(important_dates_no)):\n",
    "    text(important_dates_no[x]-5, 715, important_events_no[x], rotation=0)\n",
    "\n",
    "plt.gca().xaxis.set_major_formatter(fmt)\n",
    "plt.style.use('ggplot')\n",
    "\n",
    "plt.show()"
   ]
  },
  {
   "cell_type": "code",
   "execution_count": 30,
   "metadata": {},
   "outputs": [
    {
     "name": "stdout",
     "output_type": "stream",
     "text": [
      "Governor Cuomo \n",
      " orders all \n",
      " nonessential businesses \n",
      " closed statewide.\n"
     ]
    },
    {
     "ename": "TypeError",
     "evalue": "'list' object is not callable",
     "output_type": "error",
     "traceback": [
      "\u001b[1;31m---------------------------------------------------------------------------\u001b[0m",
      "\u001b[1;31mTypeError\u001b[0m                                 Traceback (most recent call last)",
      "\u001b[1;32m<ipython-input-30-8b1ca5dc20e5>\u001b[0m in \u001b[0;36m<module>\u001b[1;34m\u001b[0m\n\u001b[0;32m     25\u001b[0m \u001b[1;32mfor\u001b[0m \u001b[0mi\u001b[0m\u001b[1;33m,\u001b[0m \u001b[0mx\u001b[0m \u001b[1;32min\u001b[0m \u001b[0menumerate\u001b[0m\u001b[1;33m(\u001b[0m\u001b[0mimport_dates_nyc\u001b[0m\u001b[1;33m)\u001b[0m\u001b[1;33m:\u001b[0m\u001b[1;33m\u001b[0m\u001b[1;33m\u001b[0m\u001b[0m\n\u001b[0;32m     26\u001b[0m     \u001b[0mprint\u001b[0m\u001b[1;33m(\u001b[0m\u001b[0mimport_events_nyc\u001b[0m\u001b[1;33m[\u001b[0m\u001b[1;36m1\u001b[0m\u001b[1;33m]\u001b[0m\u001b[1;33m)\u001b[0m\u001b[1;33m\u001b[0m\u001b[1;33m\u001b[0m\u001b[0m\n\u001b[1;32m---> 27\u001b[1;33m     \u001b[0mtext\u001b[0m\u001b[1;33m(\u001b[0m\u001b[0mx\u001b[0m\u001b[1;33m,\u001b[0m \u001b[1;36m7000\u001b[0m\u001b[1;33m,\u001b[0m \u001b[0mimport_events_nyc\u001b[0m\u001b[1;33m[\u001b[0m\u001b[0mi\u001b[0m\u001b[1;33m]\u001b[0m\u001b[1;33m,\u001b[0m \u001b[0mrotation\u001b[0m\u001b[1;33m=\u001b[0m\u001b[1;36m0\u001b[0m\u001b[1;33m)\u001b[0m\u001b[1;33m\u001b[0m\u001b[1;33m\u001b[0m\u001b[0m\n\u001b[0m\u001b[0;32m     28\u001b[0m \u001b[1;33m\u001b[0m\u001b[0m\n\u001b[0;32m     29\u001b[0m \u001b[1;31m#### creating the covid cases chart\u001b[0m\u001b[1;33m\u001b[0m\u001b[1;33m\u001b[0m\u001b[1;33m\u001b[0m\u001b[0m\n",
      "\u001b[1;31mTypeError\u001b[0m: 'list' object is not callable"
     ]
    },
    {
     "data": {
      "image/png": "[encoded data removed]",
      "text/plain": [
       "<Figure size 1152x864 with 1 Axes>"
      ]
     },
     "metadata": {
      "needs_background": "light"
     },
     "output_type": "display_data"
    }
   ],
   "source": [
    "#### assigning dimensions of chart\n",
    "plt.subplots(figsize=(16,12))\n",
    "gs = gridspec.GridSpec(2, 1, height_ratios=[3, 1]) \n",
    "\n",
    "\n",
    "#### saving important dates and events in lists\n",
    "import_dates_nyc = np.array([datetime.datetime(2020,3,1), \n",
    "                         datetime.datetime(2020,3,20),\n",
    "                         datetime.datetime(2020,4,18),\n",
    "                         datetime.datetime(2020,5,15),\n",
    "                         datetime.datetime(2020,5,29),\n",
    "                         datetime.datetime(2020,6,18),\n",
    "                         datetime.datetime(2020,7,6)])\n",
    "import_dates_nyc = mdates.date2num(import_dates_nyc)\n",
    "\n",
    "import_events_nyc = np.array([\"First case \\n reported \\n in New York State\", \n",
    "                              \"Governor Cuomo \\n orders all \\n nonessential businesses \\n closed statewide.\",\n",
    "                              \"Governor Cuomo \\n mentions that \\n New York may be \\n 'past the plateau' \\n as virus \\n hospitalizations drop\",\n",
    "                              \"Three Upstate \\n New York regions \\n enter Phase 1 \\n of reopening.\",\n",
    "                              \"Governor Cuomo announces \\n that New York City \\n starts \\n Phase 1 reopening \\n in one week\",\n",
    "                              \"Mayor de Blasio \\n announces New York \\n City will enter \\n Phase 2 reopening\",\n",
    "                              \"Governor Cuomo announces \\n that New York City \\n will start \\n Phase 3 reopening\"])\n",
    "\n",
    "#### loading in important dates and events\n",
    "for i, x in enumerate(import_dates_nyc):\n",
    "    print(import_events_nyc[1])\n",
    "    text(x, 7000, import_events_nyc[i], rotation=0)\n",
    "\n",
    "#### creating the covid cases chart\n",
    "ax1 = plt.subplot(gs[0])\n",
    "ax1.set_title('Number of new COVID-19 cases in New York City')\n",
    "ax1.bar(fig_df_NYC['Date'], fig_df_NYC['New_Cases'], color='indianred', alpha=0.4)\n",
    "ax1.plot(fig_df_NYC['Date'], fig_df_NYC['Seven_Day_Avg'], c='indianred', linewidth=3)\n",
    "ax1.vlines(x=import_dates_nyc, ymin=-50, ymax=7000, color='black', linestyle='--', linewidth=1)\n",
    "plt.gca().xaxis.set_major_formatter(fmt)\n",
    "\n",
    "#### creating the sentiment analysis chart\n",
    "ax2 = plt.subplot(gs[1])\n",
    "ax2.set_title('Twitter Sentiment of COVID-19 Tweets from New York City')\n",
    "ax2.plot(fig_df_NYC['Date'], fig_df_NYC['COMPOUND'], color='steelblue', linewidth=3)\n",
    "ax2.axhline(linewidth=2, color='#555555', linestyle='--')\n",
    "ax2.vlines(x=import_dates_nyc, ymin=-0.2, ymax=2, color='black', linestyle='--', linewidth=1)\n",
    "ax2.set_ylim([-0.2, 0.25])\n",
    "\n",
    "plt.gca().xaxis.set_major_formatter(fmt)\n",
    "plt.style.use('ggplot')\n",
    "\n",
    "plt.show()"
   ]
  },
  {
   "cell_type": "markdown",
   "metadata": {},
   "source": [
    "### Creating a Network\n",
    "* **Nodes**: Cities, **TO DO: color: sentiment, size: portion of population affected by covid**\n",
    "* **Edges**: Shared Hashtags, **TO DO: edge weights: number of shared hashtags**\n",
    "\n",
    "#### Hashtags by Coordinate\n",
    "First, we'll define 2 functions that will help to format our hashtag data. The first will be used to split the hashtag column into separate entities and the second will be used to create a final edge list for our network."
   ]
  },
  {
   "cell_type": "code",
   "execution_count": null,
   "metadata": {},
   "outputs": [],
   "source": [
    "plot_Tweet_Sent(noTweets, 'New Orleans Sentiment')"
   ]
  },
  {
   "cell_type": "code",
   "execution_count": null,
   "metadata": {},
   "outputs": [],
   "source": [
    "############### splitting hashtag groupings\n",
    "def splitTags(x,y):\n",
    "    return [(x,z) for z in y]\n",
    "\n",
    "############### create edge list\n",
    "def createEdges(ls):    \n",
    "    productList = []\n",
    "    \n",
    "    for i in ls:\n",
    "        if len(i) >1:\n",
    "            productList.append(list(combinations(i,2)))\n",
    "    \n",
    "    return [val for sublist in productList for val in sublist]"
   ]
  },
  {
   "cell_type": "code",
   "execution_count": null,
   "metadata": {},
   "outputs": [],
   "source": [
    "# hashtags & coordinates for each record\n",
    "hashtags = tweets['HASHTAGS'].tolist()\n",
    "coords = tweets['COORDS'].tolist()\n",
    "sepHash = [i.split() for i in hashtags]\n",
    "sepHash[1:5]"
   ]
  },
  {
   "cell_type": "code",
   "execution_count": null,
   "metadata": {},
   "outputs": [],
   "source": [
    "# set of all coordinates with individual hashtag\n",
    "coordTag = [splitTags(i,j) for i,j in list(zip(coords,sepHash)) if len(j)> 0]\n",
    "flattened = [val for sublist in coordTag for val in sublist]\n",
    "finalHash = set(flattened)\n",
    "\n",
    "# create a dictionary of each hashtag with the city coordinates\n",
    "tempDict = {}\n",
    "for i,j in finalHash:\n",
    "    if j not in tempDict:\n",
    "        tempDict[j]= [i]\n",
    "    else:\n",
    "        tempDict[j].append(i)\n",
    "        \n",
    "# remove covid hashtags from dictionary\n",
    "tagsToRemove = ['#covid_19', '#COVID19', '#COVID2019', '#COVID_19', '#COVID__19', '#COVID', '#CoronavirusUSA', '#CV19',\n",
    "                '#COVD19', '#Covid_19', '#CORONAVIRUS', '#Coronavirus', '#CoronavirusCOVID', '#Corona', '#Coronovirus',\n",
    "               '#CoronavirusOubreak', '#CoronavirusPandemic', '#CoronavirusOutbreak', '#CoronavirusPandemic', '#coronavirus', \n",
    "                '#Covid19', '#covid', '#Covid', '#covid19', '#pandemic', '#corona']\n",
    "\n",
    "for k in tagsToRemove:\n",
    "    tempDict.pop(k, None)\n",
    "\n",
    "print('Example output from the hashtag #hoax:')\n",
    "tempDict['#hoax']"
   ]
  },
  {
   "cell_type": "code",
   "execution_count": null,
   "metadata": {},
   "outputs": [],
   "source": [
    "plot_Tweet_Sent(nyTweets, 'New York Sentiment')"
   ]
  },
  {
   "cell_type": "code",
   "execution_count": null,
   "metadata": {},
   "outputs": [],
   "source": [
    "len(tempDict['#VoteBlueToSaveAmerica2020'])\n",
    "#sorted(tempDict['#BlackLivesMatter'])\n",
    "\n",
    "#list(set(tempDict['#VoteBlueToSaveAmerica2020']) & set(tempDict['#BlackLivesMatter']))\n",
    "\n",
    "\n",
    "print('business: ' , len(tempDict['#business']))\n",
    "print('stay home: ' , len(tempDict['#stayhome']))\n",
    "print('both: ', len(set(tempDict['#business']) & set(tempDict['#stayhome'])))"
   ]
  },
  {
   "cell_type": "markdown",
   "metadata": {},
   "source": [
    "#### Top Hashtags \n",
    "Let's take a look at the hashtags used in the highest number of cities. #WearAMask and #COVIDIOTS in particular stand out. "
   ]
  },
  {
   "cell_type": "code",
   "execution_count": null,
   "metadata": {},
   "outputs": [],
   "source": [
    "# top hashtags\n",
    "hsh = []\n",
    "ties = []\n",
    "for key, value in tempDict.items():\n",
    "    hsh.append(key)\n",
    "    ties.append(len(value))\n",
    "Hash_Ties = pd.DataFrame()\n",
    "Hash_Ties['Hashtag'] = hsh\n",
    "Hash_Ties['Cities'] = ties\n",
    "Hash_Ties = Hash_Ties.sort_values(by=['Cities'],ascending = False)\n",
    "Hash_Ties.head(10)"
   ]
  },
  {
   "cell_type": "code",
   "execution_count": null,
   "metadata": {},
   "outputs": [],
   "source": [
    "#### Final Edges\n",
    "# combining all elements in the dictionary values into separate node connections\n",
    "coordPairs = list(tempDict.values())\n",
    "finalPairs = createEdges(coordPairs)\n",
    "\n",
    "print('Example Edge:', finalPairs[1])"
   ]
  },
  {
   "cell_type": "code",
   "execution_count": null,
   "metadata": {},
   "outputs": [],
   "source": [
    "# split into 2 subnetworks\n",
    "magaTweets = tempDict['#MAGA']\n",
    "tindTweets = tempDict['#TrumpIsANationalDisgrace']"
   ]
  },
  {
   "cell_type": "markdown",
   "metadata": {},
   "source": [
    "#### Visualize Network"
   ]
  },
  {
   "cell_type": "markdown",
   "metadata": {},
   "source": [
    "First, we'll define a function to split the coordinates into their respective latitude and longitude values."
   ]
  },
  {
   "cell_type": "code",
   "execution_count": null,
   "metadata": {},
   "outputs": [],
   "source": [
    "city_data = pd.read_csv('covid_cases_citypop.csv')\n",
    "city_data.head()"
   ]
  },
  {
   "cell_type": "code",
   "execution_count": null,
   "metadata": {},
   "outputs": [],
   "source": [
    "Node = {}\n",
    "\n",
    "for idx, row in city_data.iterrows():\n",
    "    city = row['City']\n",
    "    if city not in Node:\n",
    "        attr = {}\n",
    "        lat = row['Lat']\n",
    "        long = row['Long']\n",
    "        pop = int(row['Population'])\n",
    "\n",
    "        cases = int(row['7/14/2020'])\n",
    "        attr['pos'] =  (float(long),float(lat))\n",
    "        attr['pop'] = int(pop/1000)\n",
    "        attr['cases'] = int(cases)\n",
    "        attr['cas_per_pop'] = round(cases/pop,5)\n",
    "        Node[city] = attr"
   ]
  },
  {
   "cell_type": "code",
   "execution_count": null,
   "metadata": {},
   "outputs": [],
   "source": [
    "def unpack_lat_long(lat_long):\n",
    "    split = lat_long.split(',')\n",
    "    lat = split[0]\n",
    "    long = split[1]\n",
    "    return lat, long\n",
    "\n",
    "def find_coord_of_hash(hash):\n",
    "    search = hash.lower()\n",
    "    coords = []\n",
    "    for key, value in tempDict.items():\n",
    "        if key.lower() == search:\n",
    "            for coord in value:\n",
    "                coords.append(coord) \n",
    "    lat_lst = []\n",
    "    long_lst = []\n",
    "    for city in coords:\n",
    "        lat, long = unpack_lat_long(city)\n",
    "        lat_lst.append(round(float(lat),2))\n",
    "        long_lst.append(round(float(long),2))\n",
    "    return coords, lat_lst, long_lst   "
   ]
  },
  {
   "cell_type": "code",
   "execution_count": null,
   "metadata": {},
   "outputs": [],
   "source": [
    "def coord_to_cities(node):\n",
    "    split = node.split(',')\n",
    "    lat = split[0]\n",
    "    long = split[1]\n",
    "    lat = round(float(lat),4)\n",
    "    long = round(float(long),4)\n",
    "    for idx, row in city_data.iterrows():\n",
    "        if lat == round(row['Lat'],4) and long == round(row['Long'],4):\n",
    "            return row['City']"
   ]
  },
  {
   "cell_type": "code",
   "execution_count": null,
   "metadata": {},
   "outputs": [],
   "source": [
    "#https://www.geeksforgeeks.org/python-program-to-count-duplicates-in-a-list-of-tuples/\n",
    "def count(listOfTuple): \n",
    "    count_map = {} \n",
    "    for i in listOfTuple: \n",
    "        count_map[i] = count_map.get(i, 0) +1\n",
    "    #print(count_map) \n",
    "    return count_map\n",
    "x = count(finalPairs)"
   ]
  },
  {
   "cell_type": "code",
   "execution_count": null,
   "metadata": {},
   "outputs": [],
   "source": [
    "w_edges = []\n",
    "for key, value in x.items():\n",
    "    w_edges.append(key + (value/10,))"
   ]
  },
  {
   "cell_type": "code",
   "execution_count": null,
   "metadata": {},
   "outputs": [],
   "source": [
    "G = nx.Graph()\n",
    "G.add_weighted_edges_from(w_edges)\n",
    "node_name_map = {}\n",
    "for node in G.nodes:\n",
    "    city= coord_to_cities(node)\n",
    "    node_name_map[node] = city\n",
    "G = nx.relabel_nodes(G, node_name_map)\n",
    "nx.set_node_attributes(G, Node)\n",
    "Gpos=nx.get_node_attributes(G,'pos')\n",
    "\n",
    "case_per_pop = list(nx.get_node_attributes(G,'cas_per_pop').values())\n",
    "cmin, cmax = min(case_per_pop), max(case_per_pop)\n",
    "for i, val in enumerate(case_per_pop):\n",
    "    case_per_pop[i] = ((val-cmin) / (cmax-cmin))*1500\n",
    "\n",
    "weights = [G[u][v]['weight'] for u,v in G.edges()]\n",
    "\n",
    "plt.figure(1, figsize=(16,12))\n",
    "nx.draw_networkx(G, pos = Gpos,node_size = case_per_pop, node_color = 'red', edge_color ='grey', with_labels = True, font_size = 12, width = weights)\n",
    "plt.show()"
   ]
  },
  {
   "cell_type": "markdown",
   "metadata": {},
   "source": [
    "### Edge Weights\n",
    "https://www.geeksforgeeks.org/python-program-to-count-duplicates-in-a-list-of-tuples/"
   ]
  },
  {
   "cell_type": "markdown",
   "metadata": {},
   "source": [
    "**Note from Zach**: Will remove this commented-out code later (see below), but thought I'd leave it just in case it'll be helpful for future visualizations:"
   ]
  },
  {
   "cell_type": "code",
   "execution_count": null,
   "metadata": {},
   "outputs": [],
   "source": [
    "# locator = mdates.MonthLocator()\n",
    "# fmt = mdates.DateFormatter('%B')\n",
    "\n",
    "\n",
    "# plt.plot(nyc_time_series['Date'], nyc_time_series['Confirmed_Cases'], c='indianred')\n",
    "# plt.plot(legend=None)\n",
    "# plt.title('Number of Confirmed COVID-19 Cases in New York City')\n",
    "# plt.xlabel('Date')\n",
    "# plt.ylabel('Number of Confirmed Cases')\n",
    "# plt.gca().xaxis.set_major_formatter(fmt)\n",
    "# plt.show()"
   ]
  }
 ],
 "metadata": {
  "kernelspec": {
   "display_name": "Python 3",
   "language": "python",
   "name": "python3"
  },
  "language_info": {
   "codemirror_mode": {
    "name": "ipython",
    "version": 3
   },
   "file_extension": ".py",
   "mimetype": "text/x-python",
   "name": "python",
   "nbconvert_exporter": "python",
   "pygments_lexer": "ipython3",
   "version": "3.7.6"
  }
 },
 "nbformat": 4,
 "nbformat_minor": 4
}
