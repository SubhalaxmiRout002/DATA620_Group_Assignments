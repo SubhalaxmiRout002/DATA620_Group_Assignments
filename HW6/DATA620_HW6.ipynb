{
 "cells": [
  {
   "cell_type": "markdown",
   "metadata": {},
   "source": [
    "### CUNY Data 620 - Web Analytics, Summer 2020\n",
    "**Group Homework Assignment 6**  \n",
    "**Prof:** Alain Ledon  \n",
    "**Members:** Misha Kollontai, Amber Ferger, Zach Alexander, Subhalaxmi Rout  \n",
    "\n",
    "**Youtube Link:** "
   ]
  },
  {
   "cell_type": "markdown",
   "metadata": {},
   "source": [
    "### Instructions\n",
    "\n",
    "It can be useful to be able to classify new \"test\" documents using already classified \"training\" documents. <br>A common example is using a corpus of labeled spam and ham (non-spam) e-mails to predict whether or not a new document is spam. <br>Here is one example of such data: http://archive.ics.uci.edu/ml/datasets/Spambase"
   ]
  },
  {
   "cell_type": "markdown",
   "metadata": {},
   "source": [
    "### Import Packages"
   ]
  },
  {
   "cell_type": "code",
   "execution_count": 1,
   "metadata": {},
   "outputs": [],
   "source": [
    "import numpy as np\n",
    "import pandas as pd\n",
    "import re\n",
    "from sklearn import svm, tree\n",
    "from sklearn.metrics import accuracy_score, confusion_matrix, classification_report\n",
    "from sklearn.neighbors import KNeighborsClassifier\n",
    "from sklearn.model_selection import train_test_split\n",
    "import matplotlib.pyplot as plt\n",
    "from sklearn import ensemble"
   ]
  },
  {
   "cell_type": "markdown",
   "metadata": {},
   "source": [
    "Using the link mentioned above we will download 2 files i.e \"spambase.data\" and \"spambase.names\".<br> The spambase.data file contains various parameters for each file as well as a classificationof ham or spam (i.e 1 = spam, 0 = Not spam). The spambase.names file contains the descriptions of each of the features. We will extract these features from the file and apply them to the dataset to create models. "
   ]
  },
  {
   "cell_type": "code",
   "execution_count": 2,
   "metadata": {},
   "outputs": [
    {
     "data": {
      "text/plain": [
       "['word_freq_make',\n",
       " 'word_freq_address',\n",
       " 'word_freq_all',\n",
       " 'word_freq_3d',\n",
       " 'word_freq_our']"
      ]
     },
     "execution_count": 2,
     "metadata": {},
     "output_type": "execute_result"
    }
   ],
   "source": [
    "# extract feature from spambase.names file.\n",
    "\n",
    "# created an empty feature list\n",
    "categories = []\n",
    "\n",
    "# open file \n",
    "feature_file = open('data/spambase.names')\n",
    "# remove '\\n', split the text,  and match with word_freq|char_freq feature \n",
    "for line in feature_file:\n",
    "    if not re.match(r'\\|', line):\n",
    "        line = line.rstrip()\n",
    "        if re.search(r'(word_freq_|char_freq_|capital_run_length_).+', line):   \n",
    "            words = line.split()\n",
    "            first_word = words[0]\n",
    "            categories.append(first_word[:-1])\n",
    "#The list of features in the names file doesn't include the column definind spam/ham, so let's add one. \n",
    "\n",
    "categories.append('spam')\n",
    "categories[:5]"
   ]
  },
  {
   "cell_type": "markdown",
   "metadata": {},
   "source": [
    "Let's now load the data from the data file and apply our 'categories' list as the column header. "
   ]
  },
  {
   "cell_type": "code",
   "execution_count": 3,
   "metadata": {},
   "outputs": [],
   "source": [
    "data=pd.read_csv('data/spambase.data', header=None)\n",
    "data.columns = categories"
   ]
  },
  {
   "cell_type": "markdown",
   "metadata": {},
   "source": [
    "Let's take a look at our dataset ot see how much spam and how much ham we have. "
   ]
  },
  {
   "cell_type": "code",
   "execution_count": 4,
   "metadata": {},
   "outputs": [
    {
     "name": "stdout",
     "output_type": "stream",
     "text": [
      "Spam: 1813\n",
      "Non-spam: 2788\n"
     ]
    }
   ],
   "source": [
    "# Count spam and non-spam\n",
    "count_spam = len(data[data.spam == 1])\n",
    "count_nonspam = len(data[data.spam == 0])\n",
    "\n",
    "print(\"Spam: %d\" %count_spam)\n",
    "print(\"Non-spam: %d\" %count_nonspam)"
   ]
  },
  {
   "cell_type": "code",
   "execution_count": 5,
   "metadata": {},
   "outputs": [
    {
     "data": {
      "text/html": [
       "<div>\n",
       "<style scoped>\n",
       "    .dataframe tbody tr th:only-of-type {\n",
       "        vertical-align: middle;\n",
       "    }\n",
       "\n",
       "    .dataframe tbody tr th {\n",
       "        vertical-align: top;\n",
       "    }\n",
       "\n",
       "    .dataframe thead th {\n",
       "        text-align: right;\n",
       "    }\n",
       "</style>\n",
       "<table border=\"1\" class=\"dataframe\">\n",
       "  <thead>\n",
       "    <tr style=\"text-align: right;\">\n",
       "      <th></th>\n",
       "      <th>word_freq_make</th>\n",
       "      <th>word_freq_address</th>\n",
       "      <th>word_freq_all</th>\n",
       "      <th>word_freq_3d</th>\n",
       "      <th>word_freq_our</th>\n",
       "      <th>word_freq_over</th>\n",
       "      <th>word_freq_remove</th>\n",
       "      <th>word_freq_internet</th>\n",
       "      <th>word_freq_order</th>\n",
       "      <th>word_freq_mail</th>\n",
       "      <th>...</th>\n",
       "      <th>char_freq_;</th>\n",
       "      <th>char_freq_(</th>\n",
       "      <th>char_freq_[</th>\n",
       "      <th>char_freq_!</th>\n",
       "      <th>char_freq_$</th>\n",
       "      <th>char_freq_#</th>\n",
       "      <th>capital_run_length_average</th>\n",
       "      <th>capital_run_length_longest</th>\n",
       "      <th>capital_run_length_total</th>\n",
       "      <th>spam</th>\n",
       "    </tr>\n",
       "  </thead>\n",
       "  <tbody>\n",
       "    <tr>\n",
       "      <td>0</td>\n",
       "      <td>0.00</td>\n",
       "      <td>0.64</td>\n",
       "      <td>0.64</td>\n",
       "      <td>0.0</td>\n",
       "      <td>0.32</td>\n",
       "      <td>0.00</td>\n",
       "      <td>0.00</td>\n",
       "      <td>0.00</td>\n",
       "      <td>0.00</td>\n",
       "      <td>0.00</td>\n",
       "      <td>...</td>\n",
       "      <td>0.00</td>\n",
       "      <td>0.000</td>\n",
       "      <td>0.0</td>\n",
       "      <td>0.778</td>\n",
       "      <td>0.000</td>\n",
       "      <td>0.000</td>\n",
       "      <td>3.756</td>\n",
       "      <td>61</td>\n",
       "      <td>278</td>\n",
       "      <td>1</td>\n",
       "    </tr>\n",
       "    <tr>\n",
       "      <td>1</td>\n",
       "      <td>0.21</td>\n",
       "      <td>0.28</td>\n",
       "      <td>0.50</td>\n",
       "      <td>0.0</td>\n",
       "      <td>0.14</td>\n",
       "      <td>0.28</td>\n",
       "      <td>0.21</td>\n",
       "      <td>0.07</td>\n",
       "      <td>0.00</td>\n",
       "      <td>0.94</td>\n",
       "      <td>...</td>\n",
       "      <td>0.00</td>\n",
       "      <td>0.132</td>\n",
       "      <td>0.0</td>\n",
       "      <td>0.372</td>\n",
       "      <td>0.180</td>\n",
       "      <td>0.048</td>\n",
       "      <td>5.114</td>\n",
       "      <td>101</td>\n",
       "      <td>1028</td>\n",
       "      <td>1</td>\n",
       "    </tr>\n",
       "    <tr>\n",
       "      <td>2</td>\n",
       "      <td>0.06</td>\n",
       "      <td>0.00</td>\n",
       "      <td>0.71</td>\n",
       "      <td>0.0</td>\n",
       "      <td>1.23</td>\n",
       "      <td>0.19</td>\n",
       "      <td>0.19</td>\n",
       "      <td>0.12</td>\n",
       "      <td>0.64</td>\n",
       "      <td>0.25</td>\n",
       "      <td>...</td>\n",
       "      <td>0.01</td>\n",
       "      <td>0.143</td>\n",
       "      <td>0.0</td>\n",
       "      <td>0.276</td>\n",
       "      <td>0.184</td>\n",
       "      <td>0.010</td>\n",
       "      <td>9.821</td>\n",
       "      <td>485</td>\n",
       "      <td>2259</td>\n",
       "      <td>1</td>\n",
       "    </tr>\n",
       "    <tr>\n",
       "      <td>3</td>\n",
       "      <td>0.00</td>\n",
       "      <td>0.00</td>\n",
       "      <td>0.00</td>\n",
       "      <td>0.0</td>\n",
       "      <td>0.63</td>\n",
       "      <td>0.00</td>\n",
       "      <td>0.31</td>\n",
       "      <td>0.63</td>\n",
       "      <td>0.31</td>\n",
       "      <td>0.63</td>\n",
       "      <td>...</td>\n",
       "      <td>0.00</td>\n",
       "      <td>0.137</td>\n",
       "      <td>0.0</td>\n",
       "      <td>0.137</td>\n",
       "      <td>0.000</td>\n",
       "      <td>0.000</td>\n",
       "      <td>3.537</td>\n",
       "      <td>40</td>\n",
       "      <td>191</td>\n",
       "      <td>1</td>\n",
       "    </tr>\n",
       "  </tbody>\n",
       "</table>\n",
       "<p>4 rows × 58 columns</p>\n",
       "</div>"
      ],
      "text/plain": [
       "   word_freq_make  word_freq_address  word_freq_all  word_freq_3d  \\\n",
       "0            0.00               0.64           0.64           0.0   \n",
       "1            0.21               0.28           0.50           0.0   \n",
       "2            0.06               0.00           0.71           0.0   \n",
       "3            0.00               0.00           0.00           0.0   \n",
       "\n",
       "   word_freq_our  word_freq_over  word_freq_remove  word_freq_internet  \\\n",
       "0           0.32            0.00              0.00                0.00   \n",
       "1           0.14            0.28              0.21                0.07   \n",
       "2           1.23            0.19              0.19                0.12   \n",
       "3           0.63            0.00              0.31                0.63   \n",
       "\n",
       "   word_freq_order  word_freq_mail  ...  char_freq_;  char_freq_(  \\\n",
       "0             0.00            0.00  ...         0.00        0.000   \n",
       "1             0.00            0.94  ...         0.00        0.132   \n",
       "2             0.64            0.25  ...         0.01        0.143   \n",
       "3             0.31            0.63  ...         0.00        0.137   \n",
       "\n",
       "   char_freq_[  char_freq_!  char_freq_$  char_freq_#  \\\n",
       "0          0.0        0.778        0.000        0.000   \n",
       "1          0.0        0.372        0.180        0.048   \n",
       "2          0.0        0.276        0.184        0.010   \n",
       "3          0.0        0.137        0.000        0.000   \n",
       "\n",
       "   capital_run_length_average  capital_run_length_longest  \\\n",
       "0                       3.756                          61   \n",
       "1                       5.114                         101   \n",
       "2                       9.821                         485   \n",
       "3                       3.537                          40   \n",
       "\n",
       "   capital_run_length_total  spam  \n",
       "0                       278     1  \n",
       "1                      1028     1  \n",
       "2                      2259     1  \n",
       "3                       191     1  \n",
       "\n",
       "[4 rows x 58 columns]"
      ]
     },
     "execution_count": 5,
     "metadata": {},
     "output_type": "execute_result"
    }
   ],
   "source": [
    "data.head(4)"
   ]
  },
  {
   "cell_type": "markdown",
   "metadata": {},
   "source": [
    "Lets see what percentage of our data is spam/Not spam. "
   ]
  },
  {
   "cell_type": "code",
   "execution_count": 6,
   "metadata": {},
   "outputs": [
    {
     "data": {
      "image/png": "[encoded data removed]",
      "text/plain": [
       "<Figure size 432x432 with 1 Axes>"
      ]
     },
     "metadata": {},
     "output_type": "display_data"
    }
   ],
   "source": [
    "# pie plot of spam/not spam \n",
    "\n",
    "labels = ['Not Spam','Spam']\n",
    "data['spam'].value_counts().plot(kind = 'pie', explode = [0, 0.1], figsize = (6, 6), autopct = '%1.1f%%', labels=labels)\n",
    "plt.ylabel(\"Spam vs Not Spam\")\n",
    "plt.legend([\"Not Spam\", \"Spam\"])\n",
    "plt.show()"
   ]
  },
  {
   "cell_type": "markdown",
   "metadata": {},
   "source": [
    "#### Data splitting:\n",
    "\n",
    "This table consists of 58 columns, we will devide the dataset into 2 parts i.e the train and the test set. Train data is 75% of data and test data is 25% of data. We will create two variables: the output will be the 'spam' column, the input will be everything else. We also want to ensure that we stratify the model so that we have a representative breakdown of Spam and Ham. "
   ]
  },
  {
   "cell_type": "code",
   "execution_count": 7,
   "metadata": {},
   "outputs": [],
   "source": [
    "X = data.values[:, 0:57]\n",
    "Y = data.values[:, 57]\n",
    "X_train, X_test, Y_train, Y_test = train_test_split(X, Y, test_size = 0.25, random_state = 4, stratify=Y)"
   ]
  },
  {
   "cell_type": "markdown",
   "metadata": {},
   "source": [
    "Parameter test_size is given value 0.25. It means test set will be 25% of the whole dataset and training set will be 75%. Parameter random_state is a pseudo-random number generator state used for random sampling."
   ]
  },
  {
   "cell_type": "markdown",
   "metadata": {},
   "source": [
    "#### Model 1: Support Vector machine\n",
    "\n",
    "We will create model Support Vector machine algorithm and will create confusion matrix and the accuracy. "
   ]
  },
  {
   "cell_type": "code",
   "execution_count": 21,
   "metadata": {},
   "outputs": [],
   "source": [
    "svm_model = svm.SVC()\n",
    "svm_model.fit(X_train, Y_train)\n",
    "\n",
    "# Prediction\n",
    "svm_pred = svm_model.predict(X_test)"
   ]
  },
  {
   "cell_type": "code",
   "execution_count": 9,
   "metadata": {},
   "outputs": [
    {
     "name": "stdout",
     "output_type": "stream",
     "text": [
      "0.8218940052128584\n"
     ]
    }
   ],
   "source": [
    "# find accuracy on the Test Set\n",
    "print(accuracy_score(Y_test, svm_pred))"
   ]
  },
  {
   "cell_type": "code",
   "execution_count": 10,
   "metadata": {},
   "outputs": [
    {
     "name": "stdout",
     "output_type": "stream",
     "text": [
      "[[596 101]\n",
      " [104 350]]\n",
      "              precision    recall  f1-score   support\n",
      "\n",
      "         0.0       0.85      0.86      0.85       697\n",
      "         1.0       0.78      0.77      0.77       454\n",
      "\n",
      "    accuracy                           0.82      1151\n",
      "   macro avg       0.81      0.81      0.81      1151\n",
      "weighted avg       0.82      0.82      0.82      1151\n",
      "\n"
     ]
    }
   ],
   "source": [
    "# Determine Performance Metrics\n",
    "def perf_metrics(y_test, prediction):\n",
    "    print(confusion_matrix(y_test, prediction))\n",
    "    print(classification_report(y_test,prediction))\n",
    "\n",
    "perf_metrics(Y_test,svm_pred)"
   ]
  },
  {
   "cell_type": "markdown",
   "metadata": {},
   "source": [
    "Using a baseline support vector machine(SVM) the accuracy of predicting spam messages/emails is 71%.\n",
    "\n",
    "In a situation like this the more important measure is probably Precision - since we want to ensure that while we are filtering out Spam, we do our best to send all actual emails to the inbox. No one wants to miss an important email due to the spam filter!"
   ]
  },
  {
   "cell_type": "markdown",
   "metadata": {},
   "source": [
    "#### Model 2: K Nearest Neighbors\n",
    "\n",
    "When putting together a K-Nearest Neighbors model we wanted to ensure we were selecting the optimal number of neighbors for our dataset. To do so we looped through them and identified the number of neighbors that corresponded to the highest accuracy. "
   ]
  },
  {
   "cell_type": "code",
   "execution_count": 11,
   "metadata": {},
   "outputs": [
    {
     "data": {
      "text/html": [
       "<style  type=\"text/css\" >\n",
       "</style><table id=\"T_2575ebbe_c1d0_11ea_a931_acde48001122\" ><thead>    <tr>        <th class=\"col_heading level0 col0\" >n_neighbors</th>        <th class=\"col_heading level0 col1\" >Accuracy</th>    </tr></thead><tbody>\n",
       "                <tr>\n",
       "                                <td id=\"T_2575ebbe_c1d0_11ea_a931_acde48001122row0_col0\" class=\"data row0 col0\" >1</td>\n",
       "                        <td id=\"T_2575ebbe_c1d0_11ea_a931_acde48001122row0_col1\" class=\"data row0 col1\" >0.806255</td>\n",
       "            </tr>\n",
       "            <tr>\n",
       "                                <td id=\"T_2575ebbe_c1d0_11ea_a931_acde48001122row1_col0\" class=\"data row1 col0\" >2</td>\n",
       "                        <td id=\"T_2575ebbe_c1d0_11ea_a931_acde48001122row1_col1\" class=\"data row1 col1\" >0.786273</td>\n",
       "            </tr>\n",
       "            <tr>\n",
       "                                <td id=\"T_2575ebbe_c1d0_11ea_a931_acde48001122row2_col0\" class=\"data row2 col0\" >3</td>\n",
       "                        <td id=\"T_2575ebbe_c1d0_11ea_a931_acde48001122row2_col1\" class=\"data row2 col1\" >0.807993</td>\n",
       "            </tr>\n",
       "            <tr>\n",
       "                                <td id=\"T_2575ebbe_c1d0_11ea_a931_acde48001122row3_col0\" class=\"data row3 col0\" >4</td>\n",
       "                        <td id=\"T_2575ebbe_c1d0_11ea_a931_acde48001122row3_col1\" class=\"data row3 col1\" >0.790617</td>\n",
       "            </tr>\n",
       "            <tr>\n",
       "                                <td id=\"T_2575ebbe_c1d0_11ea_a931_acde48001122row4_col0\" class=\"data row4 col0\" >5</td>\n",
       "                        <td id=\"T_2575ebbe_c1d0_11ea_a931_acde48001122row4_col1\" class=\"data row4 col1\" >0.805387</td>\n",
       "            </tr>\n",
       "    </tbody></table>"
      ],
      "text/plain": [
       "<pandas.io.formats.style.Styler at 0x10c3c1310>"
      ]
     },
     "execution_count": 11,
     "metadata": {},
     "output_type": "execute_result"
    }
   ],
   "source": [
    "n_neigh = range(1,21)\n",
    "K_N_acc = []\n",
    "for n in n_neigh:\n",
    "    k_neigh = KNeighborsClassifier(n_neighbors = n)\n",
    "    k_neigh.fit(X_train,Y_train)\n",
    "    k_neigh_pred = k_neigh.predict(X_test)\n",
    "    K_N_acc.append(accuracy_score(Y_test, k_neigh_pred))\n",
    "K_N = {\"n_neighbors\":n_neigh,'Accuracy':K_N_acc}\n",
    "K_N = pd.DataFrame(K_N)\n",
    "K_N.head().style.hide_index()"
   ]
  },
  {
   "cell_type": "markdown",
   "metadata": {},
   "source": [
    "By plotting these results we can find the best number of neightbors to use. From this set of data it seems that the best number to use for our dat is 3. It's interesting to note that the results for each value follows the general rule that even numbers of pairs tend to be less accurate for classifications into 2 groups. After 9 nighbors we see a significant dropoff in marginal accuracy. "
   ]
  },
  {
   "cell_type": "code",
   "execution_count": 12,
   "metadata": {},
   "outputs": [
    {
     "data": {
      "image/png": "[encoded data removed]",
      "text/plain": [
       "<Figure size 432x288 with 1 Axes>"
      ]
     },
     "metadata": {
      "needs_background": "light"
     },
     "output_type": "display_data"
    }
   ],
   "source": [
    "plt.plot(n_neigh,K_N['Accuracy'])\n",
    "plt.title('K_N Accuracy based on # neighbors')\n",
    "plt.xlabel('Number of neighbors [n]')\n",
    "plt.ylabel('Accuracy')\n",
    "plt.xticks(n_neigh)\n",
    "plt.show()"
   ]
  },
  {
   "cell_type": "markdown",
   "metadata": {},
   "source": [
    "Now that we have identified the optimal value for n_neighbors, let's see what our model looks like when compared to the test values. "
   ]
  },
  {
   "cell_type": "code",
   "execution_count": 13,
   "metadata": {},
   "outputs": [
    {
     "name": "stdout",
     "output_type": "stream",
     "text": [
      "[[598  99]\n",
      " [122 332]]\n",
      "              precision    recall  f1-score   support\n",
      "\n",
      "         0.0       0.83      0.86      0.84       697\n",
      "         1.0       0.77      0.73      0.75       454\n",
      "\n",
      "    accuracy                           0.81      1151\n",
      "   macro avg       0.80      0.79      0.80      1151\n",
      "weighted avg       0.81      0.81      0.81      1151\n",
      "\n"
     ]
    }
   ],
   "source": [
    "K_N_3 = KNeighborsClassifier(n_neighbors = 3)\n",
    "K_N_3.fit(X_train,Y_train)\n",
    "K_N_3_pred = K_N_3.predict(X_test)\n",
    "\n",
    "perf_metrics(Y_test,K_N_3_pred)"
   ]
  },
  {
   "cell_type": "markdown",
   "metadata": {},
   "source": [
    "We can see that our K-Nearest Neighbor Model optimized to 3 neighbors provides a precision of predicting non-spam emails of 83%. This means that 17% of your emails would get filtered away to spam - not exactly ideal!"
   ]
  },
  {
   "cell_type": "markdown",
   "metadata": {},
   "source": [
    "#### Model 3: Decision Tree Classifier\n",
    "\n",
    "Our next approach was to use a decision tree classifier model on our dataset. One of the main parameters for a Random Forest model is the maximum depth of the splits. As with the K-Nearest-Neighbors model we will loop through various values to determine the best one. "
   ]
  },
  {
   "cell_type": "code",
   "execution_count": 14,
   "metadata": {},
   "outputs": [
    {
     "data": {
      "text/html": [
       "<style  type=\"text/css\" >\n",
       "</style><table id=\"T_25e77aa4_c1d0_11ea_a931_acde48001122\" ><thead>    <tr>        <th class=\"col_heading level0 col0\" >Max Depth</th>        <th class=\"col_heading level0 col1\" >Accuracy</th>    </tr></thead><tbody>\n",
       "                <tr>\n",
       "                                <td id=\"T_25e77aa4_c1d0_11ea_a931_acde48001122row0_col0\" class=\"data row0 col0\" >1</td>\n",
       "                        <td id=\"T_25e77aa4_c1d0_11ea_a931_acde48001122row0_col1\" class=\"data row0 col1\" >0.779322</td>\n",
       "            </tr>\n",
       "            <tr>\n",
       "                                <td id=\"T_25e77aa4_c1d0_11ea_a931_acde48001122row1_col0\" class=\"data row1 col0\" >2</td>\n",
       "                        <td id=\"T_25e77aa4_c1d0_11ea_a931_acde48001122row1_col1\" class=\"data row1 col1\" >0.834057</td>\n",
       "            </tr>\n",
       "            <tr>\n",
       "                                <td id=\"T_25e77aa4_c1d0_11ea_a931_acde48001122row2_col0\" class=\"data row2 col0\" >3</td>\n",
       "                        <td id=\"T_25e77aa4_c1d0_11ea_a931_acde48001122row2_col1\" class=\"data row2 col1\" >0.880973</td>\n",
       "            </tr>\n",
       "            <tr>\n",
       "                                <td id=\"T_25e77aa4_c1d0_11ea_a931_acde48001122row3_col0\" class=\"data row3 col0\" >4</td>\n",
       "                        <td id=\"T_25e77aa4_c1d0_11ea_a931_acde48001122row3_col1\" class=\"data row3 col1\" >0.889661</td>\n",
       "            </tr>\n",
       "            <tr>\n",
       "                                <td id=\"T_25e77aa4_c1d0_11ea_a931_acde48001122row4_col0\" class=\"data row4 col0\" >5</td>\n",
       "                        <td id=\"T_25e77aa4_c1d0_11ea_a931_acde48001122row4_col1\" class=\"data row4 col1\" >0.895743</td>\n",
       "            </tr>\n",
       "    </tbody></table>"
      ],
      "text/plain": [
       "<pandas.io.formats.style.Styler at 0x1a221863d0>"
      ]
     },
     "execution_count": 14,
     "metadata": {},
     "output_type": "execute_result"
    }
   ],
   "source": [
    "depth = range(1,21)\n",
    "Tree_acc = []\n",
    "for d in depth:\n",
    "    Tree = tree.DecisionTreeClassifier(max_depth = d)\n",
    "    Tree.fit(X_train,Y_train)\n",
    "    Tree_pred = Tree.predict(X_test)\n",
    "    Tree_acc.append(accuracy_score(Y_test, Tree_pred))\n",
    "    \n",
    "TREE = {\"Max Depth\":depth,'Accuracy':Tree_acc}\n",
    "TREE = pd.DataFrame(TREE)\n",
    "TREE.head().style.hide_index()"
   ]
  },
  {
   "cell_type": "code",
   "execution_count": 15,
   "metadata": {},
   "outputs": [
    {
     "data": {
      "image/png": "[encoded data removed]",
      "text/plain": [
       "<Figure size 432x288 with 1 Axes>"
      ]
     },
     "metadata": {
      "needs_background": "light"
     },
     "output_type": "display_data"
    }
   ],
   "source": [
    "plt.plot(depth,TREE['Accuracy'])\n",
    "plt.title('Decision Tree Accuracy Based on Depth')\n",
    "plt.xlabel('Max Depth')\n",
    "plt.ylabel('Accuracy')\n",
    "plt.xticks(depth)\n",
    "plt.show()"
   ]
  },
  {
   "cell_type": "code",
   "execution_count": 16,
   "metadata": {},
   "outputs": [
    {
     "name": "stdout",
     "output_type": "stream",
     "text": [
      "The best accuracy of 91.83% comes from a max depth of 13\n"
     ]
    }
   ],
   "source": [
    "best_depth_idx = TREE['Accuracy'].idxmax()\n",
    "best_acc = max(TREE['Accuracy'])\n",
    "best_dep = int(TREE.iloc[best_depth_idx]['Max Depth'])\n",
    "print(f\"The best accuracy of {best_acc:.2%} comes from a max depth of {best_dep}\")"
   ]
  },
  {
   "cell_type": "code",
   "execution_count": 17,
   "metadata": {},
   "outputs": [
    {
     "name": "stdout",
     "output_type": "stream",
     "text": [
      "[[667  30]\n",
      " [ 61 393]]\n",
      "              precision    recall  f1-score   support\n",
      "\n",
      "         0.0       0.92      0.96      0.94       697\n",
      "         1.0       0.93      0.87      0.90       454\n",
      "\n",
      "    accuracy                           0.92      1151\n",
      "   macro avg       0.92      0.91      0.92      1151\n",
      "weighted avg       0.92      0.92      0.92      1151\n",
      "\n"
     ]
    }
   ],
   "source": [
    "Best_Tree = tree.DecisionTreeClassifier(max_depth = best_dep)\n",
    "Best_Tree.fit(X_train,Y_train)\n",
    "Best_Tree_pred = Best_Tree.predict(X_test)\n",
    "perf_metrics(Y_test,Best_Tree_pred)"
   ]
  },
  {
   "cell_type": "markdown",
   "metadata": {},
   "source": [
    "Using an optimized Decision Tree Classifier we managed to improve our Precision of actual emails to 91%, meaning only 9% of your emails would go missing. Looks like we are getting somewhere. "
   ]
  },
  {
   "cell_type": "markdown",
   "metadata": {},
   "source": [
    "#### Model 4: Random Forest Classifier\n",
    "\n",
    "We import the random forest regression model from skicit-learn, instantiate the model, and fit the model on the training dataset. "
   ]
  },
  {
   "cell_type": "code",
   "execution_count": 22,
   "metadata": {},
   "outputs": [
    {
     "name": "stdout",
     "output_type": "stream",
     "text": [
      "[[2091    0]\n",
      " [  12 1347]]\n",
      "              precision    recall  f1-score   support\n",
      "\n",
      "         0.0       0.99      1.00      1.00      2091\n",
      "         1.0       1.00      0.99      1.00      1359\n",
      "\n",
      "    accuracy                           1.00      3450\n",
      "   macro avg       1.00      1.00      1.00      3450\n",
      "weighted avg       1.00      1.00      1.00      3450\n",
      "\n"
     ]
    }
   ],
   "source": [
    "# Random forest - train\n",
    "\n",
    "rf = ensemble.RandomForestClassifier(criterion=\"entropy\", random_state=42)\n",
    "rf_fit = rf.fit(X_train, Y_train)\n",
    "\n",
    "rf_train = rf_fit.predict(X_train)\n",
    "perf_metrics(Y_train, rf_train)"
   ]
  },
  {
   "cell_type": "markdown",
   "metadata": {},
   "source": [
    "For training dataset accuracy is 100%. Below performance metrics for the test dataset. "
   ]
  },
  {
   "cell_type": "code",
   "execution_count": 19,
   "metadata": {},
   "outputs": [
    {
     "name": "stdout",
     "output_type": "stream",
     "text": [
      "[[675  22]\n",
      " [ 45 409]]\n",
      "              precision    recall  f1-score   support\n",
      "\n",
      "         0.0       0.94      0.97      0.95       697\n",
      "         1.0       0.95      0.90      0.92       454\n",
      "\n",
      "    accuracy                           0.94      1151\n",
      "   macro avg       0.94      0.93      0.94      1151\n",
      "weighted avg       0.94      0.94      0.94      1151\n",
      "\n"
     ]
    }
   ],
   "source": [
    "# Random forest - test\n",
    "\n",
    "rf_test = rf_fit.predict(X_test)\n",
    "perf_metrics(Y_test, rf_test)"
   ]
  },
  {
   "cell_type": "markdown",
   "metadata": {},
   "source": [
    "That looks pretty good! Our model shows 94% accuracy. "
   ]
  },
  {
   "cell_type": "markdown",
   "metadata": {},
   "source": [
    "##### Feature importance\n",
    "\n",
    "This is the property of Random Forest classifier that it provide us the importance of the features used. We will plot a bar graph of all features(availabe in data) with feature importance score. "
   ]
  },
  {
   "cell_type": "code",
   "execution_count": 20,
   "metadata": {},
   "outputs": [
    {
     "name": "stdout",
     "output_type": "stream",
     "text": [
      "Feature: 0, Score: 0.00327\n",
      "Feature: 1, Score: 0.00512\n",
      "Feature: 2, Score: 0.00905\n",
      "Feature: 3, Score: 0.00066\n",
      "Feature: 4, Score: 0.02028\n"
     ]
    },
    {
     "data": {
      "image/png": "[encoded data removed]",
      "text/plain": [
       "<Figure size 1800x360 with 1 Axes>"
      ]
     },
     "metadata": {
      "needs_background": "light"
     },
     "output_type": "display_data"
    }
   ],
   "source": [
    "# Random forest feature importance\n",
    "\n",
    "# get importance\n",
    "importance = list(rf.feature_importances_)\n",
    "\n",
    "# summarize feature importance\n",
    "for i,j in enumerate(importance[:5]):\n",
    "    print('Feature: %0d, Score: %.5f' % (i,j))\n",
    "    \n",
    "# plot feature importance\n",
    "plt.figure(figsize=(25, 5))\n",
    "plt.bar(list(range(len(importance))), importance, orientation = 'vertical')\n",
    "plt.xticks(range(len(importance)), data.columns, rotation='vertical')\n",
    "plt.title(\"Feature importances\")\n",
    "plt.show()"
   ]
  },
  {
   "cell_type": "markdown",
   "metadata": {},
   "source": [
    "The result shows 57 features with importance score. \"word_freq_remove\", \"char_freq_!\", and \"capital_run_length_longest\" features have high importance score.  "
   ]
  },
  {
   "cell_type": "markdown",
   "metadata": {},
   "source": [
    "**Reference:**\n"
   ]
  },
  {
   "cell_type": "markdown",
   "metadata": {},
   "source": [
    "https://towardsdatascience.com/random-forest-in-python-24d0893d51c0"
   ]
  }
 ],
 "metadata": {
  "kernelspec": {
   "display_name": "Python 3",
   "language": "python",
   "name": "python3"
  },
  "language_info": {
   "codemirror_mode": {
    "name": "ipython",
    "version": 3
   },
   "file_extension": ".py",
   "mimetype": "text/x-python",
   "name": "python",
   "nbconvert_exporter": "python",
   "pygments_lexer": "ipython3",
   "version": "3.7.4"
  }
 },
 "nbformat": 4,
 "nbformat_minor": 4
}
