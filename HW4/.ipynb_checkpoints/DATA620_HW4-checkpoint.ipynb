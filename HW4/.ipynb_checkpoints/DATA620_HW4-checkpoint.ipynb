{
 "cells": [
  {
   "cell_type": "markdown",
   "metadata": {},
   "source": [
    "### CUNY Data 620 - Web Analytics, Summer 2020\n",
    "**Group Homework Assignment 4**  \n",
    "**Prof**: Alain Ledon  \n",
    "**Members**: Misha Kollontai, Amber Ferger, Zach Alexander, Subhalaxmi Rout"
   ]
  },
  {
   "cell_type": "markdown",
   "metadata": {},
   "source": [
    "### Instructions  \n",
    "\n",
    "Here is a dataset that shows a simple 2-mode network - the attendance of 18 Southern Women at 14 social events:\n",
    "\n",
    "1) [Brief Description](http://vlado.fmf.uni-lj.si/pub/networks/data/ucinet/ucidata.htm#davis). Small “musty” datasets like that from this 1941 study have proven very valuable in testing and comparing new network algorithms. \n",
    "\n",
    "2) [Dataset](http://vlado.fmf.uni-lj.si/pub/networks/data/Ucinet/davis.dat).  \n",
    "\n",
    "3) Python code to create dataset: https://networkx.github.io/documentation/stable/auto_examples/algorithms/plot_davis_club.html  \n",
    "\n",
    "\n",
    "What can you infer about the relationships between (1) the women, and (2) the social events?  "
   ]
  },
  {
   "cell_type": "code",
   "execution_count": null,
   "metadata": {},
   "outputs": [],
   "source": []
  }
 ],
 "metadata": {
  "kernelspec": {
   "display_name": "Python 3",
   "language": "python",
   "name": "python3"
  },
  "language_info": {
   "codemirror_mode": {
    "name": "ipython",
    "version": 3
   },
   "file_extension": ".py",
   "mimetype": "text/x-python",
   "name": "python",
   "nbconvert_exporter": "python",
   "pygments_lexer": "ipython3",
   "version": "3.7.6"
  }
 },
 "nbformat": 4,
 "nbformat_minor": 4
}
