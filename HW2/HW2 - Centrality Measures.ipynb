{
 "cells": [
  {
   "attachments": {},
   "cell_type": "markdown",
   "metadata": {},
   "source": [
    "### CUNY Data 620 - Web Analytics, Summer 2020\n",
    "**Group Homework Assignment 1**  \n",
    "**Prof:** Alain Ledon  \n",
    "**Members:** Misha Kollontai, Amber Ferger, Zach Alexander, Subhalaxmi Rout "
   ]
  },
  {
   "attachments": {},
   "cell_type": "markdown",
   "metadata": {},
   "source": [
    "#### Project Overview\n",
    "\n",
    "Centrality measures can be used to predict (positive or negative) outcomes for a node.\n",
    "\n",
    "Your task in this week’s assignment is to identify an interesting set of network data that is available on the web (either through web scraping or web APIs) that could be used for analyzing and comparing centrality measures across nodes.  As an additional constraint, there should be at least one categorical variable available for each node (such as “Male” or “Female”; “Republican”, “Democrat,” or “Undecided”, etc.)\n",
    "In addition to identifying your data source, you should create a high level plan that describes how you would load the data for analysis, and describe a hypothetical outcome that could be predicted from comparing degree centrality across categorical groups."
   ]
  },
  {
   "attachments": {},
   "cell_type": "markdown",
   "metadata": {},
   "source": [
    "#### Data Collection\n",
    "\n",
    "The dataset we are going to use is ‘primary school’ data. The dataset consists of two weighted networks of face-to-face proximity between students and teachers. For each day of the study, a daily contact network is provided: nodes are individuals and edges represent face-to-face interactions.\n",
    "\n",
    "**Source** - Sociopatterns.org Primary School Dataset <br>\n",
    "**Format** - The network is stored in a Graph Exchange XML Format (GEXF). <br>\n",
    "**Description** - This dataset nodes are indivisdual and edges represent face-to-face interaction. <br>\n",
    "Nodes have 2 attributes i.e ‘Classname’ and ‘Gender’\n",
    "<ol>\n",
    "<li> Classname - school class and grade of the corresponding individual</li>\n",
    "<li> Gender – Gender of individuals</li>\n",
    "</ol>\n",
    "\n",
    "Edges have 2 weights associated with it i.e ‘duration’ and ‘count’.\n",
    "<ol>\n",
    "<li>Duration – Time in seconds spent between individuals</li>\n",
    "<li>Count – The number of face-to-face interactions between the individuals</li>\n",
    "</ol>\n"
   ]
  },
  {
   "attachments": {},
   "cell_type": "markdown",
   "metadata": {},
   "source": [
    "#### Data Anlysis\n",
    "\n",
    "We will download ‘sp_data_school_day1.gz’ file from given source and extract it and load the file in to Jupyter notebook. Then we will use Networkx library to do the analysis.<br>\n",
    "\n",
    "Below analysis we are going to perform on this dataset.\n",
    "\n",
    "**Network Characteristics** – Explore the data see the nodes and edges along with structure of the data. <br>\n",
    "**Network Visualization** - Take a preliminary look at the whole network and use color to more easily visualize the categorical features. <br>\n",
    "\n",
    "**Calculate Centrality Measures** – Compute eigenvector and degree centrality compared by category and then apply a t-test to average degree of centrality of category.<br>\n",
    "\n",
    "**Weight Analysis** - Identify if the 2 weighted features provide additional information about the network <br>\n",
    "\n",
    "**Category Visualization** - visualize the subnetworks (using duration and counts by category)\n"
   ]
  },
  {
   "cell_type": "code",
   "execution_count": null,
   "metadata": {},
   "outputs": [],
   "source": []
  }
 ],
 "metadata": {
  "kernelspec": {
   "display_name": "Python 3",
   "language": "python",
   "name": "python3"
  },
  "language_info": {
   "codemirror_mode": {
    "name": "ipython",
    "version": 3
   },
   "file_extension": ".py",
   "mimetype": "text/x-python",
   "name": "python",
   "nbconvert_exporter": "python",
   "pygments_lexer": "ipython3",
   "version": "3.7.4"
  }
 },
 "nbformat": 4,
 "nbformat_minor": 2
}
